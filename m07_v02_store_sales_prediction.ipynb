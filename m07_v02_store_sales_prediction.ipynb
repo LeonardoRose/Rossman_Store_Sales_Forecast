{
 "cells": [
  {
   "cell_type": "markdown",
   "id": "d55d0239",
   "metadata": {},
   "source": [
    "# 0.0. IMPORTS"
   ]
  },
  {
   "cell_type": "code",
   "execution_count": 1,
   "id": "d090934d",
   "metadata": {
    "ExecuteTime": {
     "end_time": "2022-09-18T20:33:36.314412Z",
     "start_time": "2022-09-18T20:33:36.299452Z"
    }
   },
   "outputs": [],
   "source": [
    "# pip install boruta"
   ]
  },
  {
   "cell_type": "code",
   "execution_count": 2,
   "id": "e76d0ad4",
   "metadata": {
    "ExecuteTime": {
     "end_time": "2022-09-18T20:33:39.934248Z",
     "start_time": "2022-09-18T20:33:36.315410Z"
    }
   },
   "outputs": [],
   "source": [
    "import math\n",
    "import numpy             as np\n",
    "import pandas            as pd\n",
    "import inflection\n",
    "import datetime\n",
    "\n",
    "import seaborn           as sns\n",
    "import matplotlib.pyplot as plt\n",
    "import matplotlib.pyplot as plt\n",
    "import xgboost           as xgb\n",
    "\n",
    "\n",
    "from matplotlib.gridspec   import GridSpec\n",
    "from matplotlib            import pyplot as plt\n",
    "from IPython.core.display  import HTML\n",
    "from IPython.display       import Image\n",
    "from scipy                 import stats as ss\n",
    "from boruta                import BorutaPy\n",
    "\n",
    "\n",
    "from sklearn.preprocessing import RobustScaler, MinMaxScaler, LabelEncoder\n",
    "from sklearn.ensemble      import RandomForestRegressor\n",
    "from sklearn.linear_model  import LinearRegression, Lasso\n",
    "from sklearn.metrics       import mean_absolute_error, mean_squared_error\n",
    "from sklearn.ensemble      import RandomForestRegressor"
   ]
  },
  {
   "cell_type": "markdown",
   "id": "32217948",
   "metadata": {},
   "source": [
    "## 0.1. Helper Functions"
   ]
  },
  {
   "cell_type": "code",
   "execution_count": 120,
   "id": "5a9b590e",
   "metadata": {
    "ExecuteTime": {
     "end_time": "2022-09-19T03:00:38.191184Z",
     "start_time": "2022-09-19T03:00:38.153313Z"
    }
   },
   "outputs": [],
   "source": [
    "def jupyter_settings():\n",
    "    %matplotlib inline\n",
    "    %pylab inline \n",
    "    \n",
    "    plt.style.use( 'bmh' )\n",
    "    plt.rcParams['figure.figsize'] = [25, 12]\n",
    "    plt.rcParams['font.size'] = 24\n",
    "    \n",
    "    diplay( HTML( '<style>.container: { width:100% !important; } </style>') )\n",
    "    pd.options.display.max_columns = None\n",
    "    pd.options.display.max_rows = None    \n",
    "    pd.set_option( 'display.expand_frame_repr', False)\n",
    "    \n",
    "    sns.set()\n",
    "    \n",
    "def cramer_v( x, y ):\n",
    "    cm = pd.crosstab( x, y ).values\n",
    "    n = cm.sum()\n",
    "    r, k = cm.shape\n",
    "    \n",
    "    chi2 = ss.chi2_contingency( cm )[0]\n",
    "    chi2corr = max(0, chi2 - (k-1)*(r-1)/(n-1) )\n",
    "    kcorr = k - (k-1)**2/(n-1)\n",
    "    rcorr = r - (r-1)**2/(n-1)\n",
    "    \n",
    "    return np.sqrt( (chi2corr/n)  / ( min( kcorr-1, rcorr-1  ) ) )\n",
    "\n",
    "def mean_absolute_percentage_error( y, yhat ):\n",
    "    return np.mean( np.abs( ( y - yhat ) / y ) )\n",
    "\n",
    "def ml_error( model_name, y, yhat ):\n",
    "    mae = mean_absolute_error( y, yhat )\n",
    "    mape = mean_absolute_percentage_error( y, yhat )\n",
    "    rmse = np.sqrt( mean_squared_error( y, yhat ) )\n",
    "    \n",
    "    return pd.DataFrame( { 'Model Name': model_name,\n",
    "                          'MAE': mae,\n",
    "                          'MAPE': mape,\n",
    "                          'RMSE': rmse}, index=[0] )\n",
    "\n",
    "def cross_validation( x_training, kfold, model_name, model, verbose=False ):\n",
    "    mae_list = []\n",
    "    mape_list = []\n",
    "    rmse_list = []\n",
    "    \n",
    "    for k in reversed( range( 1, kfold+1 ) ) :\n",
    "        if verbose:\n",
    "            print('KFold Number: {}' .format( k ))\n",
    "        # start and end date for validation\n",
    "        validation_start_date = x_training['date'].max() - datetime.timedelta( days=k*6*7)\n",
    "        validation_end_date = x_training['date'].max() - datetime.timedelta( days=(k-1)*6*7)\n",
    "\n",
    "        # filtering dataset\n",
    "        training = x_training[ x_training['date'] < validation_start_date ]\n",
    "        validation = x_training[ (x_training['date'] >= validation_start_date) & (x_training['date'] <= validation_end_date) ]\n",
    "\n",
    "        # training and validation dataset\n",
    "        # training\n",
    "        xtraining = training.drop( ['sales','date'], axis=1 )\n",
    "        ytraining = training['sales']\n",
    "\n",
    "        # validation\n",
    "        xvalidation = validation.drop( ['sales','date'], axis=1 )\n",
    "        yvalidation = validation['sales']\n",
    "\n",
    "        # model\n",
    "        m = model.fit( xtraining, ytraining )\n",
    "\n",
    "        # prediction\n",
    "        yhat = m.predict( xvalidation )\n",
    "\n",
    "        # performance\n",
    "        m_result = ml_error( model_name, np.expm1( yvalidation ), np.expm1( yhat ))\n",
    "\n",
    "        # store performance of each kfold iteration\n",
    "        mae_list.append(  m_result['MAE'] )\n",
    "        mape_list.append( m_result['MAPE'] )\n",
    "        rmse_list.append( m_result['RMSE'] )\n",
    "        \n",
    "    return pd.DataFrame( {'Model Name': model_name,\n",
    "                          'MAE CV': np.round( np.mean( mae_list ), 2).astype( str ) + '+/- ' + np.round( np.std( mae_list ),2).astype( str ),\n",
    "                          'MAPE CV': np.round( np.mean( mape_list ), 2).astype( str ) + '+/- ' + np.round( np.std( mape_list ),2).astype( str ),\n",
    "                          'RMSE CV': np.round( np.mean( rmse_list ), 2).astype( str ) + '+/- ' + np.round( np.std( rmse_list ),2).astype( str )             \n",
    "                         }, index=[0])\n"
   ]
  },
  {
   "cell_type": "markdown",
   "id": "b331b79e",
   "metadata": {},
   "source": [
    "## 0.2. Loading Datas"
   ]
  },
  {
   "cell_type": "code",
   "execution_count": 4,
   "id": "0d7ef4e7",
   "metadata": {
    "ExecuteTime": {
     "end_time": "2022-09-18T20:33:40.956034Z",
     "start_time": "2022-09-18T20:33:39.965874Z"
    }
   },
   "outputs": [],
   "source": [
    "df_sales_raw = pd.read_csv('train.csv', low_memory = False)\n",
    "df_stores_raw = pd.read_csv('store.csv', low_memory = False)\n",
    "\n",
    "# merge \n",
    "\n",
    "df_raw = pd.merge(df_sales_raw, df_stores_raw, how = 'left', on='Store' )"
   ]
  },
  {
   "cell_type": "code",
   "execution_count": 5,
   "id": "4675ae84",
   "metadata": {
    "ExecuteTime": {
     "end_time": "2022-09-18T20:33:41.124479Z",
     "start_time": "2022-09-18T20:33:40.956936Z"
    }
   },
   "outputs": [
    {
     "data": {
      "text/html": [
       "<div>\n",
       "<style scoped>\n",
       "    .dataframe tbody tr th:only-of-type {\n",
       "        vertical-align: middle;\n",
       "    }\n",
       "\n",
       "    .dataframe tbody tr th {\n",
       "        vertical-align: top;\n",
       "    }\n",
       "\n",
       "    .dataframe thead th {\n",
       "        text-align: right;\n",
       "    }\n",
       "</style>\n",
       "<table border=\"1\" class=\"dataframe\">\n",
       "  <thead>\n",
       "    <tr style=\"text-align: right;\">\n",
       "      <th></th>\n",
       "      <th>Store</th>\n",
       "      <th>DayOfWeek</th>\n",
       "      <th>Date</th>\n",
       "      <th>Sales</th>\n",
       "      <th>Customers</th>\n",
       "      <th>Open</th>\n",
       "      <th>Promo</th>\n",
       "      <th>StateHoliday</th>\n",
       "      <th>SchoolHoliday</th>\n",
       "      <th>StoreType</th>\n",
       "      <th>Assortment</th>\n",
       "      <th>CompetitionDistance</th>\n",
       "      <th>CompetitionOpenSinceMonth</th>\n",
       "      <th>CompetitionOpenSinceYear</th>\n",
       "      <th>Promo2</th>\n",
       "      <th>Promo2SinceWeek</th>\n",
       "      <th>Promo2SinceYear</th>\n",
       "      <th>PromoInterval</th>\n",
       "    </tr>\n",
       "  </thead>\n",
       "  <tbody>\n",
       "    <tr>\n",
       "      <th>884588</th>\n",
       "      <td>64</td>\n",
       "      <td>1</td>\n",
       "      <td>2013-04-29</td>\n",
       "      <td>10727</td>\n",
       "      <td>817</td>\n",
       "      <td>1</td>\n",
       "      <td>1</td>\n",
       "      <td>0</td>\n",
       "      <td>0</td>\n",
       "      <td>d</td>\n",
       "      <td>c</td>\n",
       "      <td>22560.0</td>\n",
       "      <td>NaN</td>\n",
       "      <td>NaN</td>\n",
       "      <td>1</td>\n",
       "      <td>14.0</td>\n",
       "      <td>2013.0</td>\n",
       "      <td>Jan,Apr,Jul,Oct</td>\n",
       "    </tr>\n",
       "  </tbody>\n",
       "</table>\n",
       "</div>"
      ],
      "text/plain": [
       "        Store  DayOfWeek        Date  Sales  Customers  Open  Promo  \\\n",
       "884588     64          1  2013-04-29  10727        817     1      1   \n",
       "\n",
       "       StateHoliday  SchoolHoliday StoreType Assortment  CompetitionDistance  \\\n",
       "884588            0              0         d          c              22560.0   \n",
       "\n",
       "        CompetitionOpenSinceMonth  CompetitionOpenSinceYear  Promo2  \\\n",
       "884588                        NaN                       NaN       1   \n",
       "\n",
       "        Promo2SinceWeek  Promo2SinceYear    PromoInterval  \n",
       "884588             14.0           2013.0  Jan,Apr,Jul,Oct  "
      ]
     },
     "execution_count": 5,
     "metadata": {},
     "output_type": "execute_result"
    }
   ],
   "source": [
    "df_raw.sample()"
   ]
  },
  {
   "cell_type": "markdown",
   "id": "338c7ae2",
   "metadata": {
    "heading_collapsed": true
   },
   "source": [
    "# 1.0. DESCRIÇÃO DOS DADOS"
   ]
  },
  {
   "cell_type": "code",
   "execution_count": 6,
   "id": "ed756c48",
   "metadata": {
    "ExecuteTime": {
     "end_time": "2022-09-18T20:33:41.171456Z",
     "start_time": "2022-09-18T20:33:41.126474Z"
    },
    "hidden": true
   },
   "outputs": [],
   "source": [
    "df1 = df_raw.copy()"
   ]
  },
  {
   "cell_type": "markdown",
   "id": "98dac642",
   "metadata": {
    "heading_collapsed": true,
    "hidden": true
   },
   "source": [
    "## 1.1. Rename Columns"
   ]
  },
  {
   "cell_type": "code",
   "execution_count": 7,
   "id": "c0cc551b",
   "metadata": {
    "ExecuteTime": {
     "end_time": "2022-09-18T20:33:41.187457Z",
     "start_time": "2022-09-18T20:33:41.173451Z"
    },
    "hidden": true
   },
   "outputs": [],
   "source": [
    "cols_old = ['Store', 'DayOfWeek', 'Date', 'Sales', 'Customers', 'Open', 'Promo',\n",
    "       'StateHoliday', 'SchoolHoliday', 'StoreType', 'Assortment',\n",
    "       'CompetitionDistance', 'CompetitionOpenSinceMonth',\n",
    "       'CompetitionOpenSinceYear', 'Promo2', 'Promo2SinceWeek',\n",
    "       'Promo2SinceYear', 'PromoInterval']\n",
    "\n",
    "snakecase = lambda x: inflection.underscore(x)\n",
    "\n",
    "cols_new = list( map(snakecase, cols_old) )\n",
    "\n",
    "# rename columns\n",
    "df1.columns = cols_new"
   ]
  },
  {
   "cell_type": "markdown",
   "id": "c458ffd9",
   "metadata": {
    "ExecuteTime": {
     "end_time": "2022-08-26T01:35:28.654799Z",
     "start_time": "2022-08-26T01:35:28.640837Z"
    },
    "heading_collapsed": true,
    "hidden": true
   },
   "source": [
    "## 1.2. Data Dimensions"
   ]
  },
  {
   "cell_type": "code",
   "execution_count": 8,
   "id": "d2b0dba0",
   "metadata": {
    "ExecuteTime": {
     "end_time": "2022-09-18T20:33:41.203390Z",
     "start_time": "2022-09-18T20:33:41.188430Z"
    },
    "hidden": true
   },
   "outputs": [
    {
     "name": "stdout",
     "output_type": "stream",
     "text": [
      "Number of rows: 1017209\n",
      "Number of columns: 18\n"
     ]
    }
   ],
   "source": [
    "print('Number of rows: {}' .format(df1.shape[0]))\n",
    "print('Number of columns: {}' .format(df1.shape[1]))"
   ]
  },
  {
   "cell_type": "markdown",
   "id": "92532d3f",
   "metadata": {
    "hidden": true
   },
   "source": [
    "## 1.3. Data Types"
   ]
  },
  {
   "cell_type": "code",
   "execution_count": 9,
   "id": "18e9358a",
   "metadata": {
    "ExecuteTime": {
     "end_time": "2022-09-18T20:33:41.330140Z",
     "start_time": "2022-09-18T20:33:41.207379Z"
    },
    "hidden": true
   },
   "outputs": [
    {
     "data": {
      "text/plain": [
       "store                                    int64\n",
       "day_of_week                              int64\n",
       "date                            datetime64[ns]\n",
       "sales                                    int64\n",
       "customers                                int64\n",
       "open                                     int64\n",
       "promo                                    int64\n",
       "state_holiday                           object\n",
       "school_holiday                           int64\n",
       "store_type                              object\n",
       "assortment                              object\n",
       "competition_distance                   float64\n",
       "competition_open_since_month           float64\n",
       "competition_open_since_year            float64\n",
       "promo2                                   int64\n",
       "promo2_since_week                      float64\n",
       "promo2_since_year                      float64\n",
       "promo_interval                          object\n",
       "dtype: object"
      ]
     },
     "execution_count": 9,
     "metadata": {},
     "output_type": "execute_result"
    }
   ],
   "source": [
    "df1['date'] = pd.to_datetime(df1['date'])\n",
    "df1.dtypes"
   ]
  },
  {
   "cell_type": "markdown",
   "id": "73bbd636",
   "metadata": {
    "hidden": true
   },
   "source": [
    "## 1.4. Check NA"
   ]
  },
  {
   "cell_type": "code",
   "execution_count": 10,
   "id": "2f9cb5b7",
   "metadata": {
    "ExecuteTime": {
     "end_time": "2022-09-18T20:33:41.795510Z",
     "start_time": "2022-09-18T20:33:41.332134Z"
    },
    "hidden": true
   },
   "outputs": [
    {
     "data": {
      "text/plain": [
       "store                                0\n",
       "day_of_week                          0\n",
       "date                                 0\n",
       "sales                                0\n",
       "customers                            0\n",
       "open                                 0\n",
       "promo                                0\n",
       "state_holiday                        0\n",
       "school_holiday                       0\n",
       "store_type                           0\n",
       "assortment                           0\n",
       "competition_distance              2642\n",
       "competition_open_since_month    323348\n",
       "competition_open_since_year     323348\n",
       "promo2                               0\n",
       "promo2_since_week               508031\n",
       "promo2_since_year               508031\n",
       "promo_interval                  508031\n",
       "dtype: int64"
      ]
     },
     "execution_count": 10,
     "metadata": {},
     "output_type": "execute_result"
    }
   ],
   "source": [
    "df1.isna().sum()"
   ]
  },
  {
   "cell_type": "markdown",
   "id": "d5c8ddfe",
   "metadata": {
    "hidden": true
   },
   "source": [
    "## 1.5. Fillout NA"
   ]
  },
  {
   "cell_type": "code",
   "execution_count": 11,
   "id": "d9fd3740",
   "metadata": {
    "ExecuteTime": {
     "end_time": "2022-09-18T20:33:41.810481Z",
     "start_time": "2022-09-18T20:33:41.797506Z"
    },
    "hidden": true
   },
   "outputs": [
    {
     "data": {
      "text/plain": [
       "75860.0"
      ]
     },
     "execution_count": 11,
     "metadata": {},
     "output_type": "execute_result"
    }
   ],
   "source": [
    "df1['competition_distance'].max()"
   ]
  },
  {
   "cell_type": "code",
   "execution_count": 12,
   "id": "61eab3dc",
   "metadata": {
    "ExecuteTime": {
     "end_time": "2022-09-18T20:34:55.069011Z",
     "start_time": "2022-09-18T20:33:41.812465Z"
    },
    "code_folding": [],
    "hidden": true
   },
   "outputs": [],
   "source": [
    "# competition_distance\n",
    "df1['competition_distance'] = df1['competition_distance'].apply(lambda x: 200000.0 if math.isnan(x) else x )\n",
    "\n",
    "\n",
    "# competition_open_since_month\n",
    "\n",
    "df1['competition_open_since_month'] = df1.apply(lambda x: \n",
    "                                                x['date'].month if math.isnan(x['competition_open_since_month'] )\n",
    "                                                else x['competition_open_since_month'], axis = 1)\n",
    "\n",
    "# competition_open_since_year \n",
    "\n",
    "df1['competition_open_since_year'] = df1.apply(lambda x: \n",
    "                                                x['date'].year if math.isnan(x['competition_open_since_year'] )\n",
    "                                                else x['competition_open_since_year'], axis = 1)\n",
    "\n",
    "# promo2_since_week\n",
    "\n",
    "df1['promo2_since_week'] = df1.apply(lambda x: \n",
    "                            x['date'].week if math.isnan(x['promo2_since_week'] )\n",
    "                            else x['promo2_since_week'], axis = 1)         \n",
    "# promo2_since_year \n",
    "\n",
    "df1['promo2_since_year'] = df1.apply(lambda x: \n",
    "                            x['date'].year if math.isnan(x['promo2_since_year'] )\n",
    "                            else x['promo2_since_year'], axis = 1) \n",
    "\n",
    "# promo_interval\n",
    "month_map = {1: 'Jan', 2: 'Fev', 3: 'Mar', 4: 'Apr', 5: 'May', 6: 'Jun', 7: 'Jul', 8: 'Aug', 9: 'Sept', 10: 'Oct',11: 'Nov',12: 'Dec'}\n",
    "\n",
    "df1['promo_interval'].fillna(0, inplace=True)\n",
    "\n",
    "df1['month_map'] = df1['date'].dt.month.map( month_map )\n",
    "\n",
    "df1['is_promo'] = df1[['promo_interval','month_map']].apply(lambda x: 0 if x['promo_interval'] == 0 else 1 if x['month_map'] in x['promo_interval'].split(',') else 0, axis = 1) "
   ]
  },
  {
   "cell_type": "markdown",
   "id": "9ffc3f78",
   "metadata": {
    "hidden": true
   },
   "source": [
    "## 1.6. Change Types"
   ]
  },
  {
   "cell_type": "code",
   "execution_count": 13,
   "id": "e8959943",
   "metadata": {
    "ExecuteTime": {
     "end_time": "2022-09-18T20:34:55.131777Z",
     "start_time": "2022-09-18T20:34:55.070986Z"
    },
    "hidden": true
   },
   "outputs": [],
   "source": [
    "df1['competition_open_since_month'] = df1['competition_open_since_month'].astype( 'int64' )\n",
    "df1['competition_open_since_year'] = df1['competition_open_since_year'].astype( 'int64' )\n",
    "\n",
    "df1['promo2_since_week'] = df1['promo2_since_week'].astype( 'int64' )\n",
    "df1['promo2_since_year'] = df1['promo2_since_year'].astype( 'int64' )"
   ]
  },
  {
   "cell_type": "markdown",
   "id": "3358501b",
   "metadata": {
    "hidden": true
   },
   "source": [
    "## 1.7. Descriptive Statistical"
   ]
  },
  {
   "cell_type": "code",
   "execution_count": 14,
   "id": "1f4e4ec9",
   "metadata": {
    "ExecuteTime": {
     "end_time": "2022-09-18T20:34:55.147216Z",
     "start_time": "2022-09-18T20:34:55.133638Z"
    },
    "hidden": true
   },
   "outputs": [],
   "source": [
    "num_attributes = df1.select_dtypes( include= ['int64','float64'] )\n",
    "cat_attributes = df1.select_dtypes( exclude= ['int64','float64', 'datetime64[ns]'] )"
   ]
  },
  {
   "cell_type": "markdown",
   "id": "0a02b874",
   "metadata": {
    "hidden": true
   },
   "source": [
    "### 1.7.1. "
   ]
  },
  {
   "cell_type": "code",
   "execution_count": 15,
   "id": "c438e563",
   "metadata": {
    "ExecuteTime": {
     "end_time": "2022-09-18T20:34:57.201943Z",
     "start_time": "2022-09-18T20:34:55.148780Z"
    },
    "hidden": true
   },
   "outputs": [
    {
     "data": {
      "text/html": [
       "<div>\n",
       "<style scoped>\n",
       "    .dataframe tbody tr th:only-of-type {\n",
       "        vertical-align: middle;\n",
       "    }\n",
       "\n",
       "    .dataframe tbody tr th {\n",
       "        vertical-align: top;\n",
       "    }\n",
       "\n",
       "    .dataframe thead th {\n",
       "        text-align: right;\n",
       "    }\n",
       "</style>\n",
       "<table border=\"1\" class=\"dataframe\">\n",
       "  <thead>\n",
       "    <tr style=\"text-align: right;\">\n",
       "      <th></th>\n",
       "      <th>attributes</th>\n",
       "      <th>min</th>\n",
       "      <th>max</th>\n",
       "      <th>range</th>\n",
       "      <th>mean</th>\n",
       "      <th>median</th>\n",
       "      <th>std</th>\n",
       "      <th>skew</th>\n",
       "      <th>kurtosis</th>\n",
       "    </tr>\n",
       "  </thead>\n",
       "  <tbody>\n",
       "    <tr>\n",
       "      <th>0</th>\n",
       "      <td>store</td>\n",
       "      <td>1.0</td>\n",
       "      <td>1115.0</td>\n",
       "      <td>1114.0</td>\n",
       "      <td>558.429727</td>\n",
       "      <td>558.0</td>\n",
       "      <td>321.908493</td>\n",
       "      <td>-0.000955</td>\n",
       "      <td>-1.200524</td>\n",
       "    </tr>\n",
       "    <tr>\n",
       "      <th>1</th>\n",
       "      <td>day_of_week</td>\n",
       "      <td>1.0</td>\n",
       "      <td>7.0</td>\n",
       "      <td>6.0</td>\n",
       "      <td>3.998341</td>\n",
       "      <td>4.0</td>\n",
       "      <td>1.997390</td>\n",
       "      <td>0.001593</td>\n",
       "      <td>-1.246873</td>\n",
       "    </tr>\n",
       "    <tr>\n",
       "      <th>2</th>\n",
       "      <td>sales</td>\n",
       "      <td>0.0</td>\n",
       "      <td>41551.0</td>\n",
       "      <td>41551.0</td>\n",
       "      <td>5773.818972</td>\n",
       "      <td>5744.0</td>\n",
       "      <td>3849.924283</td>\n",
       "      <td>0.641460</td>\n",
       "      <td>1.778375</td>\n",
       "    </tr>\n",
       "    <tr>\n",
       "      <th>3</th>\n",
       "      <td>customers</td>\n",
       "      <td>0.0</td>\n",
       "      <td>7388.0</td>\n",
       "      <td>7388.0</td>\n",
       "      <td>633.145946</td>\n",
       "      <td>609.0</td>\n",
       "      <td>464.411506</td>\n",
       "      <td>1.598650</td>\n",
       "      <td>7.091773</td>\n",
       "    </tr>\n",
       "    <tr>\n",
       "      <th>4</th>\n",
       "      <td>open</td>\n",
       "      <td>0.0</td>\n",
       "      <td>1.0</td>\n",
       "      <td>1.0</td>\n",
       "      <td>0.830107</td>\n",
       "      <td>1.0</td>\n",
       "      <td>0.375539</td>\n",
       "      <td>-1.758045</td>\n",
       "      <td>1.090723</td>\n",
       "    </tr>\n",
       "    <tr>\n",
       "      <th>5</th>\n",
       "      <td>promo</td>\n",
       "      <td>0.0</td>\n",
       "      <td>1.0</td>\n",
       "      <td>1.0</td>\n",
       "      <td>0.381515</td>\n",
       "      <td>0.0</td>\n",
       "      <td>0.485758</td>\n",
       "      <td>0.487838</td>\n",
       "      <td>-1.762018</td>\n",
       "    </tr>\n",
       "    <tr>\n",
       "      <th>6</th>\n",
       "      <td>school_holiday</td>\n",
       "      <td>0.0</td>\n",
       "      <td>1.0</td>\n",
       "      <td>1.0</td>\n",
       "      <td>0.178647</td>\n",
       "      <td>0.0</td>\n",
       "      <td>0.383056</td>\n",
       "      <td>1.677842</td>\n",
       "      <td>0.815154</td>\n",
       "    </tr>\n",
       "    <tr>\n",
       "      <th>7</th>\n",
       "      <td>competition_distance</td>\n",
       "      <td>20.0</td>\n",
       "      <td>200000.0</td>\n",
       "      <td>199980.0</td>\n",
       "      <td>5935.442677</td>\n",
       "      <td>2330.0</td>\n",
       "      <td>12547.646829</td>\n",
       "      <td>10.242344</td>\n",
       "      <td>147.789712</td>\n",
       "    </tr>\n",
       "    <tr>\n",
       "      <th>8</th>\n",
       "      <td>competition_open_since_month</td>\n",
       "      <td>1.0</td>\n",
       "      <td>12.0</td>\n",
       "      <td>11.0</td>\n",
       "      <td>6.786849</td>\n",
       "      <td>7.0</td>\n",
       "      <td>3.311085</td>\n",
       "      <td>-0.042076</td>\n",
       "      <td>-1.232607</td>\n",
       "    </tr>\n",
       "    <tr>\n",
       "      <th>9</th>\n",
       "      <td>competition_open_since_year</td>\n",
       "      <td>1900.0</td>\n",
       "      <td>2015.0</td>\n",
       "      <td>115.0</td>\n",
       "      <td>2010.324840</td>\n",
       "      <td>2012.0</td>\n",
       "      <td>5.515591</td>\n",
       "      <td>-7.235657</td>\n",
       "      <td>124.071304</td>\n",
       "    </tr>\n",
       "    <tr>\n",
       "      <th>10</th>\n",
       "      <td>promo2</td>\n",
       "      <td>0.0</td>\n",
       "      <td>1.0</td>\n",
       "      <td>1.0</td>\n",
       "      <td>0.500564</td>\n",
       "      <td>1.0</td>\n",
       "      <td>0.500000</td>\n",
       "      <td>-0.002255</td>\n",
       "      <td>-1.999999</td>\n",
       "    </tr>\n",
       "    <tr>\n",
       "      <th>11</th>\n",
       "      <td>promo2_since_week</td>\n",
       "      <td>1.0</td>\n",
       "      <td>52.0</td>\n",
       "      <td>51.0</td>\n",
       "      <td>23.619033</td>\n",
       "      <td>22.0</td>\n",
       "      <td>14.310057</td>\n",
       "      <td>0.178723</td>\n",
       "      <td>-1.184046</td>\n",
       "    </tr>\n",
       "    <tr>\n",
       "      <th>12</th>\n",
       "      <td>promo2_since_year</td>\n",
       "      <td>2009.0</td>\n",
       "      <td>2015.0</td>\n",
       "      <td>6.0</td>\n",
       "      <td>2012.793297</td>\n",
       "      <td>2013.0</td>\n",
       "      <td>1.662657</td>\n",
       "      <td>-0.784436</td>\n",
       "      <td>-0.210075</td>\n",
       "    </tr>\n",
       "    <tr>\n",
       "      <th>13</th>\n",
       "      <td>is_promo</td>\n",
       "      <td>0.0</td>\n",
       "      <td>1.0</td>\n",
       "      <td>1.0</td>\n",
       "      <td>0.161100</td>\n",
       "      <td>0.0</td>\n",
       "      <td>0.367623</td>\n",
       "      <td>1.843742</td>\n",
       "      <td>1.399388</td>\n",
       "    </tr>\n",
       "  </tbody>\n",
       "</table>\n",
       "</div>"
      ],
      "text/plain": [
       "                      attributes     min       max     range         mean  \\\n",
       "0                          store     1.0    1115.0    1114.0   558.429727   \n",
       "1                    day_of_week     1.0       7.0       6.0     3.998341   \n",
       "2                          sales     0.0   41551.0   41551.0  5773.818972   \n",
       "3                      customers     0.0    7388.0    7388.0   633.145946   \n",
       "4                           open     0.0       1.0       1.0     0.830107   \n",
       "5                          promo     0.0       1.0       1.0     0.381515   \n",
       "6                 school_holiday     0.0       1.0       1.0     0.178647   \n",
       "7           competition_distance    20.0  200000.0  199980.0  5935.442677   \n",
       "8   competition_open_since_month     1.0      12.0      11.0     6.786849   \n",
       "9    competition_open_since_year  1900.0    2015.0     115.0  2010.324840   \n",
       "10                        promo2     0.0       1.0       1.0     0.500564   \n",
       "11             promo2_since_week     1.0      52.0      51.0    23.619033   \n",
       "12             promo2_since_year  2009.0    2015.0       6.0  2012.793297   \n",
       "13                      is_promo     0.0       1.0       1.0     0.161100   \n",
       "\n",
       "    median           std       skew    kurtosis  \n",
       "0    558.0    321.908493  -0.000955   -1.200524  \n",
       "1      4.0      1.997390   0.001593   -1.246873  \n",
       "2   5744.0   3849.924283   0.641460    1.778375  \n",
       "3    609.0    464.411506   1.598650    7.091773  \n",
       "4      1.0      0.375539  -1.758045    1.090723  \n",
       "5      0.0      0.485758   0.487838   -1.762018  \n",
       "6      0.0      0.383056   1.677842    0.815154  \n",
       "7   2330.0  12547.646829  10.242344  147.789712  \n",
       "8      7.0      3.311085  -0.042076   -1.232607  \n",
       "9   2012.0      5.515591  -7.235657  124.071304  \n",
       "10     1.0      0.500000  -0.002255   -1.999999  \n",
       "11    22.0     14.310057   0.178723   -1.184046  \n",
       "12  2013.0      1.662657  -0.784436   -0.210075  \n",
       "13     0.0      0.367623   1.843742    1.399388  "
      ]
     },
     "execution_count": 15,
     "metadata": {},
     "output_type": "execute_result"
    }
   ],
   "source": [
    "# Central Tendency - Mean, Median\n",
    "\n",
    "ct1 = pd.DataFrame( num_attributes.apply(np.mean) ).T\n",
    "ct2 = pd.DataFrame( num_attributes.apply(np.median) ).T\n",
    "\n",
    "# Dispersion - std, min, max, range, skew, kurtosis\n",
    "d1 = pd.DataFrame( num_attributes.apply( np.std ) ).T\n",
    "d2 = pd.DataFrame( num_attributes.apply( min ) ).T\n",
    "d3 = pd.DataFrame( num_attributes.apply( max ) ).T\n",
    "d4 = pd.DataFrame( num_attributes.apply(lambda x: x.max() - x.min()  ) ).T\n",
    "d5 = pd.DataFrame( num_attributes.apply(lambda x: x.skew()  ) ).T\n",
    "d6 = pd.DataFrame( num_attributes.apply(lambda x: x.kurtosis()  ) ).T\n",
    "\n",
    "# concatenate\n",
    "\n",
    "m = pd.concat( [d2, d3, d4, ct1, ct2, d1, d5, d6] ).T.reset_index()\n",
    "m.columns = ['attributes','min','max','range','mean','median','std','skew','kurtosis']\n",
    "m"
   ]
  },
  {
   "cell_type": "markdown",
   "id": "9daafb51",
   "metadata": {
    "heading_collapsed": true
   },
   "source": [
    "# 2.0. PASSO 02 - FEATURE ENGINEERING"
   ]
  },
  {
   "cell_type": "code",
   "execution_count": 16,
   "id": "f97b51ef",
   "metadata": {
    "ExecuteTime": {
     "end_time": "2022-09-18T20:34:57.311675Z",
     "start_time": "2022-09-18T20:34:57.202941Z"
    },
    "hidden": true
   },
   "outputs": [],
   "source": [
    "df2 = df1.copy()"
   ]
  },
  {
   "cell_type": "markdown",
   "id": "3055bae7",
   "metadata": {
    "hidden": true
   },
   "source": [
    "## 2.1. Mapa Mental de Hipoteses"
   ]
  },
  {
   "cell_type": "markdown",
   "id": "3b3e1fe0",
   "metadata": {
    "hidden": true
   },
   "source": [
    "## 2.2. Criacao das Hipoteses"
   ]
  },
  {
   "cell_type": "markdown",
   "id": "33dd4871",
   "metadata": {
    "heading_collapsed": true,
    "hidden": true
   },
   "source": [
    "### 2.2.1 Hipoteses Loja\n"
   ]
  },
  {
   "cell_type": "markdown",
   "id": "269565ce",
   "metadata": {
    "ExecuteTime": {
     "end_time": "2022-08-29T00:30:55.244137Z",
     "start_time": "2022-08-29T00:30:55.228200Z"
    },
    "hidden": true
   },
   "source": [
    "**1.** Lojas com número maior de funcionários deveriam vender mais.\n",
    "\n",
    "**2.** Lojas com maior capacidade de estoque deveriam vender mais.\n",
    "\n",
    "**3.** Lojas com maior porte deveriam vender mais.\n",
    "\n",
    "**4.** Lojas com maior sortimentos deveriam vender mais.\n",
    "\n",
    "**5.** Lojas com competidores mais próximos deveriam vender menos.\n",
    "\n",
    "**6.** Lojas com competidores à mais tempo deveriam vendem mais."
   ]
  },
  {
   "cell_type": "markdown",
   "id": "31414d15",
   "metadata": {
    "heading_collapsed": true,
    "hidden": true
   },
   "source": [
    "### 2.2.2. Hipoteses Produto"
   ]
  },
  {
   "cell_type": "markdown",
   "id": "24ec6755",
   "metadata": {
    "ExecuteTime": {
     "end_time": "2022-08-29T00:32:52.063017Z",
     "start_time": "2022-08-29T00:32:52.044067Z"
    },
    "hidden": true
   },
   "source": [
    "**1.** Lojas que investem mais em Marketing deveriam vender mais.\n",
    "\n",
    "**2.** Lojas com maior exposição de produto deveriam vender mais.\n",
    "\n",
    "**3.** Lojas com produtos com preço menor deveriam vender mais.\n",
    "\n",
    "**5.** Lojas com promoções mais agressivas ( descontos maiores ), deveriam vender mais.\n",
    "\n",
    "**6.** Lojas com promoções ativas por mais tempo deveriam vender mais.\n",
    "\n",
    "**7.** Lojas com mais dias de promoção deveriam vender mais.\n",
    "\n",
    "**8.** Lojas com mais promoções consecutivas deveriam vender mais.\n",
    "\n"
   ]
  },
  {
   "cell_type": "markdown",
   "id": "d440a366",
   "metadata": {
    "heading_collapsed": true,
    "hidden": true
   },
   "source": [
    "### 2.2.2. Hipoteses Tempo"
   ]
  },
  {
   "cell_type": "markdown",
   "id": "ee20833f",
   "metadata": {
    "hidden": true
   },
   "source": [
    "**1.** Lojas abertas durante o feriado de Natal deveriam vender mais.\n",
    "\n",
    "**2.** Lojas deveriam vender mais ao longo dos anos.\n",
    "\n",
    "**3.** Lojas deveriam vender mais no segundo semestre do ano.\n",
    "\n",
    "**4.** Lojas deveriam vender mais depois do dia 10 de cada mês.\n",
    "\n",
    "**5.** Lojas deveriam vender menos aos finais de semana.\n",
    "\n",
    "**6.** Lojas deveriam vender menos durante os feriados escolares\n"
   ]
  },
  {
   "cell_type": "markdown",
   "id": "5df49546",
   "metadata": {
    "heading_collapsed": true,
    "hidden": true
   },
   "source": [
    "## 2.3. Lista Final de Hipóteses"
   ]
  },
  {
   "cell_type": "markdown",
   "id": "dce6b6b1",
   "metadata": {
    "ExecuteTime": {
     "end_time": "2022-08-29T00:33:44.347210Z",
     "start_time": "2022-08-29T00:33:44.326266Z"
    },
    "hidden": true
   },
   "source": [
    "**1.** Lojas com maior sortimentos deveriam vender mais.\n",
    "\n",
    "**2.** Lojas com competidores mais próximos deveriam vender menos.\n",
    "\n",
    "**3.** Lojas com competidores à mais tempo deveriam vendem mais.\n",
    "\n",
    "**4.** Lojas com promoções ativas por mais tempo deveriam vender mais.\n",
    "\n",
    "**5.** Lojas com mais dias de promoção deveriam vender mais.\n",
    "\n",
    "**7.** Lojas com mais promoções consecutivas deveriam vender mais.\n",
    "\n",
    "**8.** Lojas abertas durante o feriado de Natal deveriam vender mais.\n",
    "\n",
    "**9.** Lojas deveriam vender mais ao longo dos anos.\n",
    "\n",
    "**10.** Lojas deveriam vender mais no segundo semestre do ano.\n",
    "\n",
    "**11.** Lojas deveriam vender mais depois do dia 10 de cada mês.\n",
    "\n",
    "**12.** Lojas deveriam vender menos aos finais de semana.\n",
    "\n",
    "**13.** Lojas deveriam vender menos durante os feriados escolares.\n",
    "\n"
   ]
  },
  {
   "cell_type": "markdown",
   "id": "c40c8d6f",
   "metadata": {
    "heading_collapsed": true,
    "hidden": true
   },
   "source": [
    "## 2.4. Feature Engineering"
   ]
  },
  {
   "cell_type": "code",
   "execution_count": 17,
   "id": "710403fb",
   "metadata": {
    "ExecuteTime": {
     "end_time": "2022-09-18T20:34:57.342914Z",
     "start_time": "2022-09-18T20:34:57.312647Z"
    },
    "hidden": true
   },
   "outputs": [
    {
     "data": {
      "text/html": [
       "<div>\n",
       "<style scoped>\n",
       "    .dataframe tbody tr th:only-of-type {\n",
       "        vertical-align: middle;\n",
       "    }\n",
       "\n",
       "    .dataframe tbody tr th {\n",
       "        vertical-align: top;\n",
       "    }\n",
       "\n",
       "    .dataframe thead th {\n",
       "        text-align: right;\n",
       "    }\n",
       "</style>\n",
       "<table border=\"1\" class=\"dataframe\">\n",
       "  <thead>\n",
       "    <tr style=\"text-align: right;\">\n",
       "      <th></th>\n",
       "      <th>store</th>\n",
       "      <th>day_of_week</th>\n",
       "      <th>date</th>\n",
       "      <th>sales</th>\n",
       "      <th>customers</th>\n",
       "      <th>open</th>\n",
       "      <th>promo</th>\n",
       "      <th>state_holiday</th>\n",
       "      <th>school_holiday</th>\n",
       "      <th>store_type</th>\n",
       "      <th>assortment</th>\n",
       "      <th>competition_distance</th>\n",
       "      <th>competition_open_since_month</th>\n",
       "      <th>competition_open_since_year</th>\n",
       "      <th>promo2</th>\n",
       "      <th>promo2_since_week</th>\n",
       "      <th>promo2_since_year</th>\n",
       "      <th>promo_interval</th>\n",
       "      <th>month_map</th>\n",
       "      <th>is_promo</th>\n",
       "    </tr>\n",
       "  </thead>\n",
       "  <tbody>\n",
       "    <tr>\n",
       "      <th>0</th>\n",
       "      <td>1</td>\n",
       "      <td>5</td>\n",
       "      <td>2015-07-31</td>\n",
       "      <td>5263</td>\n",
       "      <td>555</td>\n",
       "      <td>1</td>\n",
       "      <td>1</td>\n",
       "      <td>0</td>\n",
       "      <td>1</td>\n",
       "      <td>c</td>\n",
       "      <td>a</td>\n",
       "      <td>1270.0</td>\n",
       "      <td>9</td>\n",
       "      <td>2008</td>\n",
       "      <td>0</td>\n",
       "      <td>31</td>\n",
       "      <td>2015</td>\n",
       "      <td>0</td>\n",
       "      <td>Jul</td>\n",
       "      <td>0</td>\n",
       "    </tr>\n",
       "    <tr>\n",
       "      <th>1</th>\n",
       "      <td>2</td>\n",
       "      <td>5</td>\n",
       "      <td>2015-07-31</td>\n",
       "      <td>6064</td>\n",
       "      <td>625</td>\n",
       "      <td>1</td>\n",
       "      <td>1</td>\n",
       "      <td>0</td>\n",
       "      <td>1</td>\n",
       "      <td>a</td>\n",
       "      <td>a</td>\n",
       "      <td>570.0</td>\n",
       "      <td>11</td>\n",
       "      <td>2007</td>\n",
       "      <td>1</td>\n",
       "      <td>13</td>\n",
       "      <td>2010</td>\n",
       "      <td>Jan,Apr,Jul,Oct</td>\n",
       "      <td>Jul</td>\n",
       "      <td>1</td>\n",
       "    </tr>\n",
       "    <tr>\n",
       "      <th>2</th>\n",
       "      <td>3</td>\n",
       "      <td>5</td>\n",
       "      <td>2015-07-31</td>\n",
       "      <td>8314</td>\n",
       "      <td>821</td>\n",
       "      <td>1</td>\n",
       "      <td>1</td>\n",
       "      <td>0</td>\n",
       "      <td>1</td>\n",
       "      <td>a</td>\n",
       "      <td>a</td>\n",
       "      <td>14130.0</td>\n",
       "      <td>12</td>\n",
       "      <td>2006</td>\n",
       "      <td>1</td>\n",
       "      <td>14</td>\n",
       "      <td>2011</td>\n",
       "      <td>Jan,Apr,Jul,Oct</td>\n",
       "      <td>Jul</td>\n",
       "      <td>1</td>\n",
       "    </tr>\n",
       "    <tr>\n",
       "      <th>3</th>\n",
       "      <td>4</td>\n",
       "      <td>5</td>\n",
       "      <td>2015-07-31</td>\n",
       "      <td>13995</td>\n",
       "      <td>1498</td>\n",
       "      <td>1</td>\n",
       "      <td>1</td>\n",
       "      <td>0</td>\n",
       "      <td>1</td>\n",
       "      <td>c</td>\n",
       "      <td>c</td>\n",
       "      <td>620.0</td>\n",
       "      <td>9</td>\n",
       "      <td>2009</td>\n",
       "      <td>0</td>\n",
       "      <td>31</td>\n",
       "      <td>2015</td>\n",
       "      <td>0</td>\n",
       "      <td>Jul</td>\n",
       "      <td>0</td>\n",
       "    </tr>\n",
       "    <tr>\n",
       "      <th>4</th>\n",
       "      <td>5</td>\n",
       "      <td>5</td>\n",
       "      <td>2015-07-31</td>\n",
       "      <td>4822</td>\n",
       "      <td>559</td>\n",
       "      <td>1</td>\n",
       "      <td>1</td>\n",
       "      <td>0</td>\n",
       "      <td>1</td>\n",
       "      <td>a</td>\n",
       "      <td>a</td>\n",
       "      <td>29910.0</td>\n",
       "      <td>4</td>\n",
       "      <td>2015</td>\n",
       "      <td>0</td>\n",
       "      <td>31</td>\n",
       "      <td>2015</td>\n",
       "      <td>0</td>\n",
       "      <td>Jul</td>\n",
       "      <td>0</td>\n",
       "    </tr>\n",
       "    <tr>\n",
       "      <th>...</th>\n",
       "      <td>...</td>\n",
       "      <td>...</td>\n",
       "      <td>...</td>\n",
       "      <td>...</td>\n",
       "      <td>...</td>\n",
       "      <td>...</td>\n",
       "      <td>...</td>\n",
       "      <td>...</td>\n",
       "      <td>...</td>\n",
       "      <td>...</td>\n",
       "      <td>...</td>\n",
       "      <td>...</td>\n",
       "      <td>...</td>\n",
       "      <td>...</td>\n",
       "      <td>...</td>\n",
       "      <td>...</td>\n",
       "      <td>...</td>\n",
       "      <td>...</td>\n",
       "      <td>...</td>\n",
       "      <td>...</td>\n",
       "    </tr>\n",
       "    <tr>\n",
       "      <th>1017204</th>\n",
       "      <td>1111</td>\n",
       "      <td>2</td>\n",
       "      <td>2013-01-01</td>\n",
       "      <td>0</td>\n",
       "      <td>0</td>\n",
       "      <td>0</td>\n",
       "      <td>0</td>\n",
       "      <td>a</td>\n",
       "      <td>1</td>\n",
       "      <td>a</td>\n",
       "      <td>a</td>\n",
       "      <td>1900.0</td>\n",
       "      <td>6</td>\n",
       "      <td>2014</td>\n",
       "      <td>1</td>\n",
       "      <td>31</td>\n",
       "      <td>2013</td>\n",
       "      <td>Jan,Apr,Jul,Oct</td>\n",
       "      <td>Jan</td>\n",
       "      <td>1</td>\n",
       "    </tr>\n",
       "    <tr>\n",
       "      <th>1017205</th>\n",
       "      <td>1112</td>\n",
       "      <td>2</td>\n",
       "      <td>2013-01-01</td>\n",
       "      <td>0</td>\n",
       "      <td>0</td>\n",
       "      <td>0</td>\n",
       "      <td>0</td>\n",
       "      <td>a</td>\n",
       "      <td>1</td>\n",
       "      <td>c</td>\n",
       "      <td>c</td>\n",
       "      <td>1880.0</td>\n",
       "      <td>4</td>\n",
       "      <td>2006</td>\n",
       "      <td>0</td>\n",
       "      <td>1</td>\n",
       "      <td>2013</td>\n",
       "      <td>0</td>\n",
       "      <td>Jan</td>\n",
       "      <td>0</td>\n",
       "    </tr>\n",
       "    <tr>\n",
       "      <th>1017206</th>\n",
       "      <td>1113</td>\n",
       "      <td>2</td>\n",
       "      <td>2013-01-01</td>\n",
       "      <td>0</td>\n",
       "      <td>0</td>\n",
       "      <td>0</td>\n",
       "      <td>0</td>\n",
       "      <td>a</td>\n",
       "      <td>1</td>\n",
       "      <td>a</td>\n",
       "      <td>c</td>\n",
       "      <td>9260.0</td>\n",
       "      <td>1</td>\n",
       "      <td>2013</td>\n",
       "      <td>0</td>\n",
       "      <td>1</td>\n",
       "      <td>2013</td>\n",
       "      <td>0</td>\n",
       "      <td>Jan</td>\n",
       "      <td>0</td>\n",
       "    </tr>\n",
       "    <tr>\n",
       "      <th>1017207</th>\n",
       "      <td>1114</td>\n",
       "      <td>2</td>\n",
       "      <td>2013-01-01</td>\n",
       "      <td>0</td>\n",
       "      <td>0</td>\n",
       "      <td>0</td>\n",
       "      <td>0</td>\n",
       "      <td>a</td>\n",
       "      <td>1</td>\n",
       "      <td>a</td>\n",
       "      <td>c</td>\n",
       "      <td>870.0</td>\n",
       "      <td>1</td>\n",
       "      <td>2013</td>\n",
       "      <td>0</td>\n",
       "      <td>1</td>\n",
       "      <td>2013</td>\n",
       "      <td>0</td>\n",
       "      <td>Jan</td>\n",
       "      <td>0</td>\n",
       "    </tr>\n",
       "    <tr>\n",
       "      <th>1017208</th>\n",
       "      <td>1115</td>\n",
       "      <td>2</td>\n",
       "      <td>2013-01-01</td>\n",
       "      <td>0</td>\n",
       "      <td>0</td>\n",
       "      <td>0</td>\n",
       "      <td>0</td>\n",
       "      <td>a</td>\n",
       "      <td>1</td>\n",
       "      <td>d</td>\n",
       "      <td>c</td>\n",
       "      <td>5350.0</td>\n",
       "      <td>1</td>\n",
       "      <td>2013</td>\n",
       "      <td>1</td>\n",
       "      <td>22</td>\n",
       "      <td>2012</td>\n",
       "      <td>Mar,Jun,Sept,Dec</td>\n",
       "      <td>Jan</td>\n",
       "      <td>0</td>\n",
       "    </tr>\n",
       "  </tbody>\n",
       "</table>\n",
       "<p>1017209 rows × 20 columns</p>\n",
       "</div>"
      ],
      "text/plain": [
       "         store  day_of_week       date  sales  customers  open  promo  \\\n",
       "0            1            5 2015-07-31   5263        555     1      1   \n",
       "1            2            5 2015-07-31   6064        625     1      1   \n",
       "2            3            5 2015-07-31   8314        821     1      1   \n",
       "3            4            5 2015-07-31  13995       1498     1      1   \n",
       "4            5            5 2015-07-31   4822        559     1      1   \n",
       "...        ...          ...        ...    ...        ...   ...    ...   \n",
       "1017204   1111            2 2013-01-01      0          0     0      0   \n",
       "1017205   1112            2 2013-01-01      0          0     0      0   \n",
       "1017206   1113            2 2013-01-01      0          0     0      0   \n",
       "1017207   1114            2 2013-01-01      0          0     0      0   \n",
       "1017208   1115            2 2013-01-01      0          0     0      0   \n",
       "\n",
       "        state_holiday  school_holiday store_type assortment  \\\n",
       "0                   0               1          c          a   \n",
       "1                   0               1          a          a   \n",
       "2                   0               1          a          a   \n",
       "3                   0               1          c          c   \n",
       "4                   0               1          a          a   \n",
       "...               ...             ...        ...        ...   \n",
       "1017204             a               1          a          a   \n",
       "1017205             a               1          c          c   \n",
       "1017206             a               1          a          c   \n",
       "1017207             a               1          a          c   \n",
       "1017208             a               1          d          c   \n",
       "\n",
       "         competition_distance  competition_open_since_month  \\\n",
       "0                      1270.0                             9   \n",
       "1                       570.0                            11   \n",
       "2                     14130.0                            12   \n",
       "3                       620.0                             9   \n",
       "4                     29910.0                             4   \n",
       "...                       ...                           ...   \n",
       "1017204                1900.0                             6   \n",
       "1017205                1880.0                             4   \n",
       "1017206                9260.0                             1   \n",
       "1017207                 870.0                             1   \n",
       "1017208                5350.0                             1   \n",
       "\n",
       "         competition_open_since_year  promo2  promo2_since_week  \\\n",
       "0                               2008       0                 31   \n",
       "1                               2007       1                 13   \n",
       "2                               2006       1                 14   \n",
       "3                               2009       0                 31   \n",
       "4                               2015       0                 31   \n",
       "...                              ...     ...                ...   \n",
       "1017204                         2014       1                 31   \n",
       "1017205                         2006       0                  1   \n",
       "1017206                         2013       0                  1   \n",
       "1017207                         2013       0                  1   \n",
       "1017208                         2013       1                 22   \n",
       "\n",
       "         promo2_since_year    promo_interval month_map  is_promo  \n",
       "0                     2015                 0       Jul         0  \n",
       "1                     2010   Jan,Apr,Jul,Oct       Jul         1  \n",
       "2                     2011   Jan,Apr,Jul,Oct       Jul         1  \n",
       "3                     2015                 0       Jul         0  \n",
       "4                     2015                 0       Jul         0  \n",
       "...                    ...               ...       ...       ...  \n",
       "1017204               2013   Jan,Apr,Jul,Oct       Jan         1  \n",
       "1017205               2013                 0       Jan         0  \n",
       "1017206               2013                 0       Jan         0  \n",
       "1017207               2013                 0       Jan         0  \n",
       "1017208               2012  Mar,Jun,Sept,Dec       Jan         0  \n",
       "\n",
       "[1017209 rows x 20 columns]"
      ]
     },
     "execution_count": 17,
     "metadata": {},
     "output_type": "execute_result"
    }
   ],
   "source": [
    "df2"
   ]
  },
  {
   "cell_type": "code",
   "execution_count": 18,
   "id": "f02d3dd1",
   "metadata": {
    "ExecuteTime": {
     "end_time": "2022-09-18T20:35:43.353335Z",
     "start_time": "2022-09-18T20:34:57.344911Z"
    },
    "hidden": true
   },
   "outputs": [],
   "source": [
    "# year\n",
    "df2['year'] = df2['date'].dt.year\n",
    "\n",
    "# month\n",
    "df2['month'] = df2['date'].dt.month\n",
    "\n",
    "# day\n",
    "df2['day'] = df2['date'].dt.day\n",
    "\n",
    "# week of year\n",
    "df2['week_of_year'] = df2['date'].dt.isocalendar().week.astype( 'int64' )\n",
    "# df2['week_of_year'] = df2['date'].dt.weekofyear\n",
    "\n",
    "# year week\n",
    "df2['year_week'] = df2['date'].dt.strftime( '%Y-%W' )\n",
    "\n",
    "# competition since\n",
    "df2['competition_since']= df2.apply(lambda x: datetime.datetime( year = x['competition_open_since_year'] , month = x['competition_open_since_month'] , day=1 ), axis = 1 )\n",
    "\n",
    "df2['competition_time_month'] = ( ( df2['date'] - df2['competition_since'] )/30 ).apply(lambda x: x.days).astype( 'int64' )\n",
    "\n",
    "# promo since\n",
    "df2['promo_since'] = df2['promo2_since_year'].astype(str) + '-'+ df2['promo2_since_week'].astype(str)\n",
    "\n",
    "df2['promo_since'] = df2['promo_since'].apply( lambda x: datetime.datetime.strptime( x + '-1', '%Y-%W-%w') - datetime.timedelta( days = 7 ) )\n",
    "\n",
    "df2['promo_time_week'] = ( ( df2['date']  - df2['promo_since'] )/7 ).apply(lambda x: x.days).astype( 'int64' )\n",
    "\n",
    "# assortment\n",
    "df2['assortment'] = df2['assortment'].apply(lambda x: 'basic' if x == 'a' else 'extra' if x == 'b' else 'extended' )\n",
    "\n",
    "# state holiday\n",
    "df2['state_holiday'] = df2['state_holiday'].apply(lambda x: 'public_holiday' if x == 'a' else 'easter_holiday' if x == 'b' else 'christimas' if x == 'c' else 'regular_day')"
   ]
  },
  {
   "cell_type": "markdown",
   "id": "38169dbf",
   "metadata": {
    "heading_collapsed": true
   },
   "source": [
    "#  3.0. PASSO 03 - FILTRAGEM DE VARIÁVEIS"
   ]
  },
  {
   "cell_type": "code",
   "execution_count": 19,
   "id": "801be58f",
   "metadata": {
    "ExecuteTime": {
     "end_time": "2022-09-18T20:35:43.601863Z",
     "start_time": "2022-09-18T20:35:43.354332Z"
    },
    "hidden": true
   },
   "outputs": [],
   "source": [
    "df3 = df2.copy()"
   ]
  },
  {
   "cell_type": "code",
   "execution_count": 20,
   "id": "6fafebd7",
   "metadata": {
    "ExecuteTime": {
     "end_time": "2022-09-18T20:35:43.617945Z",
     "start_time": "2022-09-18T20:35:43.603774Z"
    },
    "hidden": true
   },
   "outputs": [
    {
     "data": {
      "text/plain": [
       "Index(['store', 'day_of_week', 'date', 'sales', 'customers', 'open', 'promo',\n",
       "       'state_holiday', 'school_holiday', 'store_type', 'assortment',\n",
       "       'competition_distance', 'competition_open_since_month',\n",
       "       'competition_open_since_year', 'promo2', 'promo2_since_week',\n",
       "       'promo2_since_year', 'promo_interval', 'month_map', 'is_promo', 'year',\n",
       "       'month', 'day', 'week_of_year', 'year_week', 'competition_since',\n",
       "       'competition_time_month', 'promo_since', 'promo_time_week'],\n",
       "      dtype='object')"
      ]
     },
     "execution_count": 20,
     "metadata": {},
     "output_type": "execute_result"
    }
   ],
   "source": [
    "df3.columns"
   ]
  },
  {
   "cell_type": "markdown",
   "id": "0a66383a",
   "metadata": {
    "hidden": true
   },
   "source": [
    "## 3.1. Filtragem de Linhas"
   ]
  },
  {
   "cell_type": "code",
   "execution_count": 21,
   "id": "f8bbc880",
   "metadata": {
    "ExecuteTime": {
     "end_time": "2022-09-18T20:35:43.757850Z",
     "start_time": "2022-09-18T20:35:43.619609Z"
    },
    "hidden": true
   },
   "outputs": [],
   "source": [
    "df3 = df3[(df3['open'] != 0) & (df3['sales'] > 0)]"
   ]
  },
  {
   "cell_type": "markdown",
   "id": "61dd88a9",
   "metadata": {
    "heading_collapsed": true,
    "hidden": true
   },
   "source": [
    "## 3.2. Selecao das colunas"
   ]
  },
  {
   "cell_type": "code",
   "execution_count": 22,
   "id": "7c96a567",
   "metadata": {
    "ExecuteTime": {
     "end_time": "2022-09-18T20:35:43.850738Z",
     "start_time": "2022-09-18T20:35:43.758849Z"
    },
    "hidden": true
   },
   "outputs": [],
   "source": [
    "cols_drop = ['customers', 'open', 'promo_interval', 'month_map']\n",
    "df3 = df3.drop(cols_drop, axis = 1)"
   ]
  },
  {
   "cell_type": "markdown",
   "id": "e330f075",
   "metadata": {
    "heading_collapsed": true
   },
   "source": [
    "# 4.0. PASSO 04 - ANALISE EXPLORATORIA DOS DADOS"
   ]
  },
  {
   "cell_type": "code",
   "execution_count": 23,
   "id": "6e8f18d3",
   "metadata": {
    "ExecuteTime": {
     "end_time": "2022-09-18T20:35:43.897138Z",
     "start_time": "2022-09-18T20:35:43.851156Z"
    },
    "hidden": true
   },
   "outputs": [],
   "source": [
    "df4 = df3.copy()"
   ]
  },
  {
   "cell_type": "markdown",
   "id": "17e31670",
   "metadata": {
    "heading_collapsed": true,
    "hidden": true
   },
   "source": [
    "## 4.1. Analise Univariada"
   ]
  },
  {
   "cell_type": "code",
   "execution_count": 24,
   "id": "856ff951",
   "metadata": {
    "ExecuteTime": {
     "end_time": "2022-09-18T20:35:43.913267Z",
     "start_time": "2022-09-18T20:35:43.898421Z"
    },
    "hidden": true
   },
   "outputs": [],
   "source": [
    "sns.set(rc={'figure.figsize':(11.7,8.27)})"
   ]
  },
  {
   "cell_type": "markdown",
   "id": "d753ceb5",
   "metadata": {
    "heading_collapsed": true,
    "hidden": true
   },
   "source": [
    "### 4.1.1. Response Variable"
   ]
  },
  {
   "cell_type": "code",
   "execution_count": 25,
   "id": "e28916ec",
   "metadata": {
    "ExecuteTime": {
     "end_time": "2022-09-18T20:35:44.257848Z",
     "start_time": "2022-09-18T20:35:43.914161Z"
    },
    "hidden": true
   },
   "outputs": [
    {
     "name": "stderr",
     "output_type": "stream",
     "text": [
      "C:\\Users\\leona\\anaconda3\\envs\\DataScience_Em_Producao\\lib\\site-packages\\seaborn\\distributions.py:2619: FutureWarning: `distplot` is a deprecated function and will be removed in a future version. Please adapt your code to use either `displot` (a figure-level function with similar flexibility) or `histplot` (an axes-level function for histograms).\n",
      "  warnings.warn(msg, FutureWarning)\n"
     ]
    },
    {
     "data": {
      "text/plain": [
       "<AxesSubplot:xlabel='sales'>"
      ]
     },
     "execution_count": 25,
     "metadata": {},
     "output_type": "execute_result"
    },
    {
     "data": {
      "image/png": "[encoded data removed]",
      "text/plain": [
       "<Figure size 432x288 with 1 Axes>"
      ]
     },
     "metadata": {
      "needs_background": "light"
     },
     "output_type": "display_data"
    }
   ],
   "source": [
    "sns.distplot( df4['sales'], kde = False )"
   ]
  },
  {
   "cell_type": "markdown",
   "id": "79905b88",
   "metadata": {
    "heading_collapsed": true,
    "hidden": true
   },
   "source": [
    "### 4.1.2. Numerical Variable"
   ]
  },
  {
   "cell_type": "code",
   "execution_count": 26,
   "id": "f90059fd",
   "metadata": {
    "ExecuteTime": {
     "end_time": "2022-09-18T20:35:46.391962Z",
     "start_time": "2022-09-18T20:35:44.258846Z"
    },
    "hidden": true
   },
   "outputs": [
    {
     "data": {
      "image/png": "[encoded data removed]",
      "text/plain": [
       "<Figure size 1080x1440 with 16 Axes>"
      ]
     },
     "metadata": {
      "needs_background": "light"
     },
     "output_type": "display_data"
    }
   ],
   "source": [
    "num_attributes.hist(bins = 25, figsize=(15,20) );"
   ]
  },
  {
   "cell_type": "markdown",
   "id": "8b0ca8a4",
   "metadata": {
    "heading_collapsed": true,
    "hidden": true
   },
   "source": [
    "### 4.1.3. Categorical Variable"
   ]
  },
  {
   "cell_type": "code",
   "execution_count": 27,
   "id": "4625db3c",
   "metadata": {
    "ExecuteTime": {
     "end_time": "2022-09-18T20:35:46.422882Z",
     "start_time": "2022-09-18T20:35:46.403930Z"
    },
    "hidden": true
   },
   "outputs": [
    {
     "data": {
      "text/html": [
       "<div>\n",
       "<style scoped>\n",
       "    .dataframe tbody tr th:only-of-type {\n",
       "        vertical-align: middle;\n",
       "    }\n",
       "\n",
       "    .dataframe tbody tr th {\n",
       "        vertical-align: top;\n",
       "    }\n",
       "\n",
       "    .dataframe thead th {\n",
       "        text-align: right;\n",
       "    }\n",
       "</style>\n",
       "<table border=\"1\" class=\"dataframe\">\n",
       "  <thead>\n",
       "    <tr style=\"text-align: right;\">\n",
       "      <th></th>\n",
       "      <th>state_holiday</th>\n",
       "      <th>store_type</th>\n",
       "      <th>assortment</th>\n",
       "      <th>promo_interval</th>\n",
       "      <th>month_map</th>\n",
       "    </tr>\n",
       "  </thead>\n",
       "  <tbody>\n",
       "    <tr>\n",
       "      <th>0</th>\n",
       "      <td>0</td>\n",
       "      <td>c</td>\n",
       "      <td>a</td>\n",
       "      <td>0</td>\n",
       "      <td>Jul</td>\n",
       "    </tr>\n",
       "    <tr>\n",
       "      <th>1</th>\n",
       "      <td>0</td>\n",
       "      <td>a</td>\n",
       "      <td>a</td>\n",
       "      <td>Jan,Apr,Jul,Oct</td>\n",
       "      <td>Jul</td>\n",
       "    </tr>\n",
       "    <tr>\n",
       "      <th>2</th>\n",
       "      <td>0</td>\n",
       "      <td>a</td>\n",
       "      <td>a</td>\n",
       "      <td>Jan,Apr,Jul,Oct</td>\n",
       "      <td>Jul</td>\n",
       "    </tr>\n",
       "    <tr>\n",
       "      <th>3</th>\n",
       "      <td>0</td>\n",
       "      <td>c</td>\n",
       "      <td>c</td>\n",
       "      <td>0</td>\n",
       "      <td>Jul</td>\n",
       "    </tr>\n",
       "    <tr>\n",
       "      <th>4</th>\n",
       "      <td>0</td>\n",
       "      <td>a</td>\n",
       "      <td>a</td>\n",
       "      <td>0</td>\n",
       "      <td>Jul</td>\n",
       "    </tr>\n",
       "  </tbody>\n",
       "</table>\n",
       "</div>"
      ],
      "text/plain": [
       "  state_holiday store_type assortment   promo_interval month_map\n",
       "0             0          c          a                0       Jul\n",
       "1             0          a          a  Jan,Apr,Jul,Oct       Jul\n",
       "2             0          a          a  Jan,Apr,Jul,Oct       Jul\n",
       "3             0          c          c                0       Jul\n",
       "4             0          a          a                0       Jul"
      ]
     },
     "execution_count": 27,
     "metadata": {},
     "output_type": "execute_result"
    }
   ],
   "source": [
    "cat_attributes.head()"
   ]
  },
  {
   "cell_type": "code",
   "execution_count": 28,
   "id": "f3ba443b",
   "metadata": {
    "ExecuteTime": {
     "end_time": "2022-09-18T20:35:46.468756Z",
     "start_time": "2022-09-18T20:35:46.426869Z"
    },
    "hidden": true
   },
   "outputs": [
    {
     "data": {
      "text/plain": [
       "array(['basic', 'extended', 'extra'], dtype=object)"
      ]
     },
     "execution_count": 28,
     "metadata": {},
     "output_type": "execute_result"
    }
   ],
   "source": [
    "df4['assortment'].unique()"
   ]
  },
  {
   "cell_type": "code",
   "execution_count": 29,
   "id": "219cee3e",
   "metadata": {
    "ExecuteTime": {
     "end_time": "2022-09-18T20:35:58.817536Z",
     "start_time": "2022-09-18T20:35:46.470751Z"
    },
    "hidden": true,
    "hide_input": false
   },
   "outputs": [
    {
     "name": "stderr",
     "output_type": "stream",
     "text": [
      "C:\\Users\\leona\\anaconda3\\envs\\DataScience_Em_Producao\\lib\\site-packages\\seaborn\\_decorators.py:36: FutureWarning: Pass the following variable as a keyword arg: x. From version 0.12, the only valid positional argument will be `data`, and passing other arguments without an explicit keyword will result in an error or misinterpretation.\n",
      "  warnings.warn(\n",
      "C:\\Users\\leona\\anaconda3\\envs\\DataScience_Em_Producao\\lib\\site-packages\\seaborn\\_decorators.py:36: FutureWarning: Pass the following variable as a keyword arg: x. From version 0.12, the only valid positional argument will be `data`, and passing other arguments without an explicit keyword will result in an error or misinterpretation.\n",
      "  warnings.warn(\n",
      "C:\\Users\\leona\\anaconda3\\envs\\DataScience_Em_Producao\\lib\\site-packages\\seaborn\\_decorators.py:36: FutureWarning: Pass the following variable as a keyword arg: x. From version 0.12, the only valid positional argument will be `data`, and passing other arguments without an explicit keyword will result in an error or misinterpretation.\n",
      "  warnings.warn(\n"
     ]
    },
    {
     "data": {
      "text/plain": [
       "<matplotlib.legend.Legend at 0x1f4aea94cd0>"
      ]
     },
     "execution_count": 29,
     "metadata": {},
     "output_type": "execute_result"
    },
    {
     "data": {
      "image/png": "[encoded data removed]",
      "text/plain": [
       "<Figure size 432x288 with 6 Axes>"
      ]
     },
     "metadata": {
      "needs_background": "light"
     },
     "output_type": "display_data"
    }
   ],
   "source": [
    "# state_holiday\n",
    "plt.subplot(3,2,1)\n",
    "a = df4[df4['state_holiday'] != 'regular_day']\n",
    "sns.countplot( a['state_holiday'] )\n",
    "\n",
    "plt.subplot(3,2,2)\n",
    "sns.kdeplot( df4[df4['state_holiday'] == 'public_holiday']['sales'], label='public_holiday', shade=True )\n",
    "sns.kdeplot( df4[df4['state_holiday'] == 'easter_holiday']['sales'], label='easter_holiday', shade=True )\n",
    "sns.kdeplot( df4[df4['state_holiday'] == 'christimas']['sales'], label='christimas', shade=True)\n",
    "plt.legend()\n",
    "\n",
    "# store_type\n",
    "\n",
    "plt.subplot(3,2,3)\n",
    "sns.countplot( df4['store_type'] )\n",
    "\n",
    "plt.subplot(3,2,4)\n",
    "sns.kdeplot( df4[df4['store_type'] == 'a']['sales'], label='a', shade=True )\n",
    "sns.kdeplot( df4[df4['store_type'] == 'b']['sales'], label='b', shade=True )\n",
    "sns.kdeplot( df4[df4['store_type'] == 'c']['sales'], label='c', shade=True)\n",
    "sns.kdeplot( df4[df4['store_type'] == 'd']['sales'], label='d', shade=True)\n",
    "plt.legend()\n",
    "\n",
    "# assortment\n",
    "\n",
    "plt.subplot(3,2,5)\n",
    "sns.countplot( df4['assortment'] )\n",
    "\n",
    "plt.subplot(3,2,6)\n",
    "sns.kdeplot( df4[df4['assortment'] == 'extended']['sales'], label='extended', shade=True )\n",
    "sns.kdeplot( df4[df4['assortment'] == 'basic']['sales'], label='basic', shade=True )\n",
    "sns.kdeplot( df4[df4['assortment'] == 'extra']['sales'], label='extra', shade=True)\n",
    "\n",
    "plt.legend()"
   ]
  },
  {
   "cell_type": "markdown",
   "id": "81bf37c0",
   "metadata": {
    "heading_collapsed": true,
    "hidden": true
   },
   "source": [
    "## 4.2. Analise Bivariada"
   ]
  },
  {
   "cell_type": "markdown",
   "id": "f24e0a1d",
   "metadata": {
    "heading_collapsed": true,
    "hidden": true
   },
   "source": [
    "### H1. Lojas com maior sortimento deveriam vender mais\n",
    "**VERDADEIRO** Lojas com MAIOR SORTIMENTO vendem MAIS"
   ]
  },
  {
   "cell_type": "code",
   "execution_count": 30,
   "id": "8ea9d5d6",
   "metadata": {
    "ExecuteTime": {
     "end_time": "2022-09-18T20:35:59.377398Z",
     "start_time": "2022-09-18T20:35:58.819507Z"
    },
    "hidden": true
   },
   "outputs": [
    {
     "data": {
      "text/plain": [
       "<AxesSubplot:xlabel='year_week'>"
      ]
     },
     "execution_count": 30,
     "metadata": {},
     "output_type": "execute_result"
    },
    {
     "data": {
      "image/png": "[encoded data removed]",
      "text/plain": [
       "<Figure size 432x288 with 1 Axes>"
      ]
     },
     "metadata": {
      "needs_background": "light"
     },
     "output_type": "display_data"
    },
    {
     "data": {
      "image/png": "[encoded data removed]",
      "text/plain": [
       "<Figure size 432x288 with 1 Axes>"
      ]
     },
     "metadata": {
      "needs_background": "light"
     },
     "output_type": "display_data"
    },
    {
     "data": {
      "image/png": "[encoded data removed]",
      "text/plain": [
       "<Figure size 432x288 with 1 Axes>"
      ]
     },
     "metadata": {
      "needs_background": "light"
     },
     "output_type": "display_data"
    }
   ],
   "source": [
    "aux1 = df4[['assortment','sales']].groupby('assortment').mean().reset_index()\n",
    "sns.barplot( x='assortment',y='sales', data = aux1);\n",
    "\n",
    "aux2 = df4[['year_week','assortment','sales']].groupby(['year_week','assortment']).mean().reset_index()\n",
    "aux2.pivot(index='year_week', columns='assortment', values='sales').plot()\n",
    "\n",
    "aux3 = aux2[aux2['assortment'] == 'extra' ]\n",
    "aux3.pivot(index='year_week', columns='assortment', values='sales').plot()"
   ]
  },
  {
   "cell_type": "markdown",
   "id": "4a604955",
   "metadata": {
    "heading_collapsed": true,
    "hidden": true
   },
   "source": [
    "### H2. Lojas com competidores mais próximos deveriam vender menos\n",
    "**FALSO** Lojas com competidores mais próximos vendem MAIS"
   ]
  },
  {
   "cell_type": "code",
   "execution_count": 31,
   "id": "8886e51e",
   "metadata": {
    "ExecuteTime": {
     "end_time": "2022-09-18T20:36:00.093555Z",
     "start_time": "2022-09-18T20:35:59.379367Z"
    },
    "hidden": true
   },
   "outputs": [
    {
     "data": {
      "image/png": "[encoded data removed]",
      "text/plain": [
       "<Figure size 432x288 with 4 Axes>"
      ]
     },
     "metadata": {
      "needs_background": "light"
     },
     "output_type": "display_data"
    }
   ],
   "source": [
    "aux1 = df4[['competition_distance','sales']].groupby('competition_distance').sum().reset_index()\n",
    "\n",
    "plt.subplot( 1, 3, 1 )\n",
    "sns.scatterplot(x='competition_distance',y='sales', data=aux1);\n",
    "\n",
    "\n",
    "plt.subplot( 1, 3, 2 )\n",
    "bins = list( np.arange( 0, 20000, 1000) )\n",
    "aux1['competition_distance_binned'] = pd.cut( aux1['competition_distance'], bins=bins )\n",
    "aux2 = aux1[['competition_distance_binned', 'sales']].groupby('competition_distance_binned').sum().reset_index()\n",
    "sns.barplot( x='competition_distance_binned', y='sales', data=aux2);\n",
    "plt.xticks( rotation = 90 )\n",
    "\n",
    "plt.subplot( 1, 3, 3 )\n",
    "x = sns.heatmap( aux1.corr( method='pearson' ), annot=True );\n",
    "bottom, top = x.get_ylim()\n",
    "x.set_ylim( bottom+0.5, top-0.5 );"
   ]
  },
  {
   "cell_type": "code",
   "execution_count": 32,
   "id": "81ade848",
   "metadata": {
    "ExecuteTime": {
     "end_time": "2022-09-18T20:36:00.109489Z",
     "start_time": "2022-09-18T20:36:00.094531Z"
    },
    "hidden": true
   },
   "outputs": [
    {
     "data": {
      "text/html": [
       "<div>\n",
       "<style scoped>\n",
       "    .dataframe tbody tr th:only-of-type {\n",
       "        vertical-align: middle;\n",
       "    }\n",
       "\n",
       "    .dataframe tbody tr th {\n",
       "        vertical-align: top;\n",
       "    }\n",
       "\n",
       "    .dataframe thead th {\n",
       "        text-align: right;\n",
       "    }\n",
       "</style>\n",
       "<table border=\"1\" class=\"dataframe\">\n",
       "  <thead>\n",
       "    <tr style=\"text-align: right;\">\n",
       "      <th></th>\n",
       "      <th>competition_distance</th>\n",
       "      <th>sales</th>\n",
       "      <th>competition_distance_binned</th>\n",
       "    </tr>\n",
       "  </thead>\n",
       "  <tbody>\n",
       "    <tr>\n",
       "      <th>0</th>\n",
       "      <td>20.0</td>\n",
       "      <td>4579807</td>\n",
       "      <td>(0, 1000]</td>\n",
       "    </tr>\n",
       "    <tr>\n",
       "      <th>1</th>\n",
       "      <td>30.0</td>\n",
       "      <td>17552666</td>\n",
       "      <td>(0, 1000]</td>\n",
       "    </tr>\n",
       "    <tr>\n",
       "      <th>2</th>\n",
       "      <td>40.0</td>\n",
       "      <td>29261626</td>\n",
       "      <td>(0, 1000]</td>\n",
       "    </tr>\n",
       "    <tr>\n",
       "      <th>3</th>\n",
       "      <td>50.0</td>\n",
       "      <td>60835848</td>\n",
       "      <td>(0, 1000]</td>\n",
       "    </tr>\n",
       "    <tr>\n",
       "      <th>4</th>\n",
       "      <td>60.0</td>\n",
       "      <td>22088359</td>\n",
       "      <td>(0, 1000]</td>\n",
       "    </tr>\n",
       "  </tbody>\n",
       "</table>\n",
       "</div>"
      ],
      "text/plain": [
       "   competition_distance     sales competition_distance_binned\n",
       "0                  20.0   4579807                   (0, 1000]\n",
       "1                  30.0  17552666                   (0, 1000]\n",
       "2                  40.0  29261626                   (0, 1000]\n",
       "3                  50.0  60835848                   (0, 1000]\n",
       "4                  60.0  22088359                   (0, 1000]"
      ]
     },
     "execution_count": 32,
     "metadata": {},
     "output_type": "execute_result"
    }
   ],
   "source": [
    "aux1.head()"
   ]
  },
  {
   "cell_type": "markdown",
   "id": "0f129f4a",
   "metadata": {
    "heading_collapsed": true,
    "hidden": true
   },
   "source": [
    "### H3. Lojas com competidores a mais tempo deveriam vender mais\n",
    "#### FALSA Lojas com COMPETIDORES A MAIS TEMPO vendem MAIS "
   ]
  },
  {
   "cell_type": "code",
   "execution_count": 33,
   "id": "e82b3d53",
   "metadata": {
    "ExecuteTime": {
     "end_time": "2022-09-18T20:36:03.487582Z",
     "start_time": "2022-09-18T20:36:00.111489Z"
    },
    "hidden": true
   },
   "outputs": [
    {
     "data": {
      "image/png": "[encoded data removed]",
      "text/plain": [
       "<Figure size 432x288 with 4 Axes>"
      ]
     },
     "metadata": {
      "needs_background": "light"
     },
     "output_type": "display_data"
    }
   ],
   "source": [
    "# figure(figsize=(20, 25), dpi=80)\n",
    "\n",
    "plt.subplot( 1, 3, 1)\n",
    "aux1 = df4[['competition_time_month','sales']].groupby('competition_time_month').sum().reset_index() \n",
    "aux2 = aux1[(aux1['competition_time_month'] < 120) & (aux1['competition_time_month'] != 0)]\n",
    "sns.barplot(x='competition_time_month', y='sales', data=aux2);\n",
    "plt.xticks( rotation = 90 );\n",
    "\n",
    "plt.subplot( 1, 3, 2)\n",
    "sns.regplot( x='competition_time_month', y='sales', data=aux2);\n",
    "\n",
    "plt.subplot( 1, 3, 3)\n",
    "x = sns.heatmap( aux1.corr( method = 'pearson'), annot=True );\n",
    "bottom, top = x.get_ylim()\n",
    "x.set_ylim( bottom+0.5, top-0.5 );"
   ]
  },
  {
   "cell_type": "markdown",
   "id": "355d4231",
   "metadata": {
    "heading_collapsed": true,
    "hidden": true
   },
   "source": [
    "### H4. Lojas com promoções ativas por mais tempo deveriam vender mais.\n",
    "**Falsa** Lojas com promoções ativas vendem menos, depois de um certo periodo de promoção."
   ]
  },
  {
   "cell_type": "code",
   "execution_count": 34,
   "id": "5aabd317",
   "metadata": {
    "ExecuteTime": {
     "end_time": "2022-09-18T20:36:03.503617Z",
     "start_time": "2022-09-18T20:36:03.488555Z"
    },
    "hidden": true
   },
   "outputs": [
    {
     "data": {
      "text/plain": [
       "Index(['store', 'day_of_week', 'date', 'sales', 'promo', 'state_holiday',\n",
       "       'school_holiday', 'store_type', 'assortment', 'competition_distance',\n",
       "       'competition_open_since_month', 'competition_open_since_year', 'promo2',\n",
       "       'promo2_since_week', 'promo2_since_year', 'is_promo', 'year', 'month',\n",
       "       'day', 'week_of_year', 'year_week', 'competition_since',\n",
       "       'competition_time_month', 'promo_since', 'promo_time_week'],\n",
       "      dtype='object')"
      ]
     },
     "execution_count": 34,
     "metadata": {},
     "output_type": "execute_result"
    }
   ],
   "source": [
    "df4.columns"
   ]
  },
  {
   "cell_type": "code",
   "execution_count": 35,
   "id": "567f7b47",
   "metadata": {
    "ExecuteTime": {
     "end_time": "2022-09-18T20:36:12.866575Z",
     "start_time": "2022-09-18T20:36:03.504512Z"
    },
    "hidden": true
   },
   "outputs": [
    {
     "data": {
      "image/png": "[encoded data removed]",
      "text/plain": [
       "<Figure size 432x288 with 6 Axes>"
      ]
     },
     "metadata": {
      "needs_background": "light"
     },
     "output_type": "display_data"
    }
   ],
   "source": [
    "aux1 = df4[['promo_time_week','sales']].groupby('promo_time_week').sum().reset_index()\n",
    "\n",
    "grid = GridSpec( 2, 3 )\n",
    "\n",
    "plt.subplot( grid[0,0] )\n",
    "aux2 = aux1[aux1['promo_time_week'] > 0 ] # promo extendido\n",
    "sns.barplot( x='promo_time_week' , y='sales', data=aux2 );\n",
    "plt.xticks( rotation=90 );\n",
    "\n",
    "plt.subplot( grid[0,1] )\n",
    "sns.regplot(x='promo_time_week', y='sales', data=aux2);\n",
    "\n",
    "plt.subplot( grid[1,0] )\n",
    "aux3 = aux1[aux1['promo_time_week'] < 0 ] # promo regular\n",
    "sns.barplot( x='promo_time_week' , y='sales', data=aux3 );\n",
    "plt.xticks( rotation=90 );\n",
    "\n",
    "plt.subplot( grid[1,1] )\n",
    "sns.regplot(x='promo_time_week', y='sales', data=aux3);\n",
    "\n",
    "plt.subplot( grid[:,2] )\n",
    "sns.heatmap( aux1.corr( method='pearson'), annot = True );"
   ]
  },
  {
   "cell_type": "markdown",
   "id": "402fbfc4",
   "metadata": {
    "hidden": true
   },
   "source": [
    "### <s> H5. Lojas com mais dias de promoção deveriam vender mais. </s>"
   ]
  },
  {
   "cell_type": "markdown",
   "id": "64413228",
   "metadata": {
    "heading_collapsed": true,
    "hidden": true
   },
   "source": [
    "### H6. Lojas com mais promoções consecutivas deveriam vender mais.\n",
    "**FALSA** Lojas com mais promoções consecutivas vendem menos"
   ]
  },
  {
   "cell_type": "code",
   "execution_count": 36,
   "id": "0d4f57ac",
   "metadata": {
    "ExecuteTime": {
     "end_time": "2022-09-18T20:36:12.944732Z",
     "start_time": "2022-09-18T20:36:12.868570Z"
    },
    "hidden": true
   },
   "outputs": [
    {
     "data": {
      "text/html": [
       "<div>\n",
       "<style scoped>\n",
       "    .dataframe tbody tr th:only-of-type {\n",
       "        vertical-align: middle;\n",
       "    }\n",
       "\n",
       "    .dataframe tbody tr th {\n",
       "        vertical-align: top;\n",
       "    }\n",
       "\n",
       "    .dataframe thead th {\n",
       "        text-align: right;\n",
       "    }\n",
       "</style>\n",
       "<table border=\"1\" class=\"dataframe\">\n",
       "  <thead>\n",
       "    <tr style=\"text-align: right;\">\n",
       "      <th></th>\n",
       "      <th>promo</th>\n",
       "      <th>promo2</th>\n",
       "      <th>sales</th>\n",
       "    </tr>\n",
       "  </thead>\n",
       "  <tbody>\n",
       "    <tr>\n",
       "      <th>0</th>\n",
       "      <td>0</td>\n",
       "      <td>0</td>\n",
       "      <td>1482612096</td>\n",
       "    </tr>\n",
       "    <tr>\n",
       "      <th>1</th>\n",
       "      <td>0</td>\n",
       "      <td>1</td>\n",
       "      <td>1289362241</td>\n",
       "    </tr>\n",
       "    <tr>\n",
       "      <th>2</th>\n",
       "      <td>1</td>\n",
       "      <td>0</td>\n",
       "      <td>1628930532</td>\n",
       "    </tr>\n",
       "    <tr>\n",
       "      <th>3</th>\n",
       "      <td>1</td>\n",
       "      <td>1</td>\n",
       "      <td>1472275754</td>\n",
       "    </tr>\n",
       "  </tbody>\n",
       "</table>\n",
       "</div>"
      ],
      "text/plain": [
       "   promo  promo2       sales\n",
       "0      0       0  1482612096\n",
       "1      0       1  1289362241\n",
       "2      1       0  1628930532\n",
       "3      1       1  1472275754"
      ]
     },
     "execution_count": 36,
     "metadata": {},
     "output_type": "execute_result"
    }
   ],
   "source": [
    "df4[['promo', 'promo2', 'sales']].groupby( ['promo', 'promo2'] ).sum().reset_index()"
   ]
  },
  {
   "cell_type": "code",
   "execution_count": 37,
   "id": "e6c77439",
   "metadata": {
    "ExecuteTime": {
     "end_time": "2022-09-18T20:36:13.211079Z",
     "start_time": "2022-09-18T20:36:12.945729Z"
    },
    "hidden": true
   },
   "outputs": [
    {
     "data": {
      "image/png": "[encoded data removed]",
      "text/plain": [
       "<Figure size 432x288 with 1 Axes>"
      ]
     },
     "metadata": {
      "needs_background": "light"
     },
     "output_type": "display_data"
    }
   ],
   "source": [
    "aux1 = df4[ ( df4['promo'] == 1 ) & ( df4['promo2'] == 1 ) ][['year_week','sales']].groupby('year_week').sum().reset_index()\n",
    "ax = aux1.plot();\n",
    "\n",
    "aux2 = df4[ ( df4['promo'] == 1 ) & ( df4['promo2'] == 0 ) ][['year_week','sales']].groupby('year_week').sum().reset_index()\n",
    "aux2.plot( ax=ax );\n",
    "\n",
    "ax.legend( labels = ['Tradicional & Extendida', 'Extendida']);"
   ]
  },
  {
   "cell_type": "markdown",
   "id": "9c6854ca",
   "metadata": {
    "heading_collapsed": true,
    "hidden": true
   },
   "source": [
    "### H7. Lojas abertas durante o feriado de Natal deveriam vender mais.\n",
    "**FALSA** Lojas abertas durante o natal vendem menos."
   ]
  },
  {
   "cell_type": "code",
   "execution_count": 38,
   "id": "ab8ccea5",
   "metadata": {
    "ExecuteTime": {
     "end_time": "2022-09-18T20:36:13.490690Z",
     "start_time": "2022-09-18T20:36:13.213073Z"
    },
    "hidden": true
   },
   "outputs": [
    {
     "data": {
      "image/png": "[encoded data removed]",
      "text/plain": [
       "<Figure size 432x288 with 2 Axes>"
      ]
     },
     "metadata": {
      "needs_background": "light"
     },
     "output_type": "display_data"
    }
   ],
   "source": [
    "aux = df4[df4['state_holiday'] != 'regular_day']\n",
    "\n",
    "plt.subplot( 1, 2, 1 )\n",
    "aux1 = aux[['state_holiday','sales']].groupby( 'state_holiday' ).sum().reset_index()\n",
    "sns.barplot( x='state_holiday', y='sales', data=aux1 );\n",
    "\n",
    "plt.subplot( 1, 2, 2 )\n",
    "aux2 = aux[['year', 'state_holiday', 'sales']].groupby( ['year', 'state_holiday'] ).sum().reset_index()\n",
    "sns.barplot( x='year', y='sales', hue='state_holiday', data=aux2 );"
   ]
  },
  {
   "cell_type": "markdown",
   "id": "6424e172",
   "metadata": {
    "heading_collapsed": true,
    "hidden": true
   },
   "source": [
    "### H8. Lojas deveriam mender mais ao longo dos anos.\n",
    "**FALSA** Lojas vendem menos ao longo dos anos"
   ]
  },
  {
   "cell_type": "code",
   "execution_count": 39,
   "id": "1de38a41",
   "metadata": {
    "ExecuteTime": {
     "end_time": "2022-09-18T20:36:13.944300Z",
     "start_time": "2022-09-18T20:36:13.492687Z"
    },
    "hidden": true
   },
   "outputs": [
    {
     "data": {
      "image/png": "[encoded data removed]",
      "text/plain": [
       "<Figure size 432x288 with 4 Axes>"
      ]
     },
     "metadata": {
      "needs_background": "light"
     },
     "output_type": "display_data"
    }
   ],
   "source": [
    "aux1 = df4[['year','sales']].groupby('year').sum().reset_index()\n",
    "\n",
    "plt.subplot( 1, 3, 1 )\n",
    "sns.barplot( x='year', y='sales', data=aux1);\n",
    "\n",
    "plt.subplot( 1, 3, 2 )\n",
    "sns.regplot( x='year', y='sales', data=aux1);\n",
    "\n",
    "plt.subplot( 1, 3, 3 )\n",
    "sns.heatmap( aux1.corr( method='pearson' ), annot = True );"
   ]
  },
  {
   "cell_type": "markdown",
   "id": "d9f39775",
   "metadata": {
    "heading_collapsed": true,
    "hidden": true
   },
   "source": [
    "### H09. Lojas deveriam vender mais no segundo semestre do ano.\n",
    "**FALSO** Lojas vendem menos no segundo semestre"
   ]
  },
  {
   "cell_type": "code",
   "execution_count": 40,
   "id": "2809a185",
   "metadata": {
    "ExecuteTime": {
     "end_time": "2022-09-18T20:36:14.440973Z",
     "start_time": "2022-09-18T20:36:13.945299Z"
    },
    "hidden": true
   },
   "outputs": [
    {
     "data": {
      "image/png": "[encoded data removed]",
      "text/plain": [
       "<Figure size 432x288 with 4 Axes>"
      ]
     },
     "metadata": {
      "needs_background": "light"
     },
     "output_type": "display_data"
    }
   ],
   "source": [
    "aux1 = df4[['month','sales']].groupby('month').sum().reset_index()\n",
    "\n",
    "plt.subplot( 1, 3, 1 )\n",
    "sns.barplot( x='month', y='sales', data=aux1);\n",
    "\n",
    "plt.subplot( 1, 3, 2 )\n",
    "sns.regplot( x='month', y='sales', data=aux1);\n",
    "\n",
    "plt.subplot( 1, 3, 3 )\n",
    "sns.heatmap( aux1.corr( method='pearson' ), annot = True );"
   ]
  },
  {
   "cell_type": "markdown",
   "id": "60418f8e",
   "metadata": {
    "heading_collapsed": true,
    "hidden": true
   },
   "source": [
    "### H10. Lojas deveriam vender mais depois do dia 10 de cada mês.\n",
    "**VERDADEIRA** Lojas vendem mais depois do dia 10 de cada mês"
   ]
  },
  {
   "cell_type": "code",
   "execution_count": 41,
   "id": "e7540e40",
   "metadata": {
    "ExecuteTime": {
     "end_time": "2022-09-18T20:36:15.389221Z",
     "start_time": "2022-09-18T20:36:14.442967Z"
    },
    "hidden": true
   },
   "outputs": [
    {
     "data": {
      "image/png": "[encoded data removed]",
      "text/plain": [
       "<Figure size 1440x576 with 5 Axes>"
      ]
     },
     "metadata": {
      "needs_background": "light"
     },
     "output_type": "display_data"
    }
   ],
   "source": [
    "aux1 = df4[['day','sales']].groupby('day').sum().reset_index()\n",
    "\n",
    "fig = plt.figure(figsize=(20, 8))\n",
    "\n",
    "plt.subplot( 2, 2, 1 )\n",
    "sns.barplot( x='day', y='sales', data=aux1);\n",
    "\n",
    "plt.subplot( 2, 2, 2 )\n",
    "sns.regplot( x='day', y='sales', data=aux1);\n",
    "\n",
    "plt.subplot( 2, 2, 3 )\n",
    "sns.heatmap( aux1.corr( method='pearson' ), annot = True );\n",
    "\n",
    "aux1['before_after'] = aux1['day'].apply( lambda x: 'before_10_days' if x <= 10 else 'after_10_days' )\n",
    "\n",
    "plt.subplot( 2, 2, 4 )\n",
    "aux2 = aux1[['before_after', 'sales']].groupby('before_after').mean().reset_index()\n",
    "sns.barplot( x='before_after', y='sales', data=aux2);"
   ]
  },
  {
   "cell_type": "code",
   "execution_count": 42,
   "id": "32d63cb6",
   "metadata": {
    "ExecuteTime": {
     "end_time": "2022-09-18T20:36:15.403867Z",
     "start_time": "2022-09-18T20:36:15.391217Z"
    },
    "hidden": true
   },
   "outputs": [
    {
     "data": {
      "text/plain": [
       "Index(['store', 'day_of_week', 'date', 'sales', 'promo', 'state_holiday',\n",
       "       'school_holiday', 'store_type', 'assortment', 'competition_distance',\n",
       "       'competition_open_since_month', 'competition_open_since_year', 'promo2',\n",
       "       'promo2_since_week', 'promo2_since_year', 'is_promo', 'year', 'month',\n",
       "       'day', 'week_of_year', 'year_week', 'competition_since',\n",
       "       'competition_time_month', 'promo_since', 'promo_time_week'],\n",
       "      dtype='object')"
      ]
     },
     "execution_count": 42,
     "metadata": {},
     "output_type": "execute_result"
    }
   ],
   "source": [
    "df4.columns"
   ]
  },
  {
   "cell_type": "markdown",
   "id": "b2ea1a1a",
   "metadata": {
    "heading_collapsed": true,
    "hidden": true
   },
   "source": [
    "### H11. Lojas deveriam vender menos aos finais de semana.\n",
    "**VERDADEIRO** Lojas vendem menos aos fds."
   ]
  },
  {
   "cell_type": "code",
   "execution_count": 43,
   "id": "b6e17a2c",
   "metadata": {
    "ExecuteTime": {
     "end_time": "2022-09-18T20:36:15.934127Z",
     "start_time": "2022-09-18T20:36:15.404864Z"
    },
    "hidden": true
   },
   "outputs": [
    {
     "data": {
      "image/png": "[encoded data removed]",
      "text/plain": [
       "<Figure size 1440x576 with 4 Axes>"
      ]
     },
     "metadata": {
      "needs_background": "light"
     },
     "output_type": "display_data"
    }
   ],
   "source": [
    "aux1 = df4[['day_of_week','sales']].groupby('day_of_week').sum().reset_index()\n",
    "\n",
    "fig = plt.figure(figsize=(20, 8))\n",
    "\n",
    "plt.subplot( 1, 3, 1 )\n",
    "sns.barplot( x='day_of_week', y='sales', data=aux1);\n",
    "\n",
    "plt.subplot( 1, 3, 2 )\n",
    "sns.regplot( x='day_of_week', y='sales', data=aux1);\n",
    "\n",
    "plt.subplot( 1, 3, 3 )\n",
    "sns.heatmap( aux1.corr( method='pearson' ), annot = True );\n"
   ]
  },
  {
   "cell_type": "markdown",
   "id": "d073ee9b",
   "metadata": {
    "heading_collapsed": true,
    "hidden": true
   },
   "source": [
    "### H12. Lojas deveriam vender menos durante os feriados escolares.\n",
    "**FALSO** Lojas vendem menos em feriados escolares. EXCETO Julho e Agosto"
   ]
  },
  {
   "cell_type": "code",
   "execution_count": 44,
   "id": "4137417b",
   "metadata": {
    "ExecuteTime": {
     "end_time": "2022-09-18T20:36:16.335394Z",
     "start_time": "2022-09-18T20:36:15.936119Z"
    },
    "hidden": true
   },
   "outputs": [
    {
     "data": {
      "text/plain": [
       "<AxesSubplot:xlabel='month', ylabel='sales'>"
      ]
     },
     "execution_count": 44,
     "metadata": {},
     "output_type": "execute_result"
    },
    {
     "data": {
      "image/png": "[encoded data removed]",
      "text/plain": [
       "<Figure size 432x288 with 2 Axes>"
      ]
     },
     "metadata": {
      "needs_background": "light"
     },
     "output_type": "display_data"
    }
   ],
   "source": [
    "aux1 = df4[['school_holiday', 'sales']].groupby('school_holiday').sum().reset_index()\n",
    "plt.subplot( 2, 1, 1 )\n",
    "sns.barplot( x='school_holiday', y='sales', data=aux1 )\n",
    "\n",
    "aux2 = df4[['month', 'school_holiday', 'sales']].groupby( ['month','school_holiday'] ).sum().reset_index()\n",
    "plt.subplot( 2, 1, 2 )\n",
    "sns.barplot( x='month', y='sales', hue='school_holiday', data=aux2 )"
   ]
  },
  {
   "cell_type": "markdown",
   "id": "3f80f85f",
   "metadata": {
    "hidden": true
   },
   "source": [
    "## 4.3. Analise Multivariada"
   ]
  },
  {
   "cell_type": "markdown",
   "id": "5b07f458",
   "metadata": {
    "heading_collapsed": true,
    "hidden": true
   },
   "source": [
    "### 4.3.1 Numerical Attributes"
   ]
  },
  {
   "cell_type": "code",
   "execution_count": 45,
   "id": "97e32a06",
   "metadata": {
    "ExecuteTime": {
     "end_time": "2022-09-18T20:36:17.783583Z",
     "start_time": "2022-09-18T20:36:16.337389Z"
    },
    "hidden": true
   },
   "outputs": [
    {
     "data": {
      "image/png": "[encoded data removed]",
      "text/plain": [
       "<Figure size 1440x720 with 2 Axes>"
      ]
     },
     "metadata": {
      "needs_background": "light"
     },
     "output_type": "display_data"
    }
   ],
   "source": [
    "fig, ax = plt.subplots(figsize=(20, 10))\n",
    "\n",
    "correlation = num_attributes.corr( method='pearson' )\n",
    "sns.heatmap( correlation, annot=True );"
   ]
  },
  {
   "cell_type": "markdown",
   "id": "e67f069b",
   "metadata": {
    "hidden": true
   },
   "source": [
    "### 4.3.1 Categorical Attributes"
   ]
  },
  {
   "cell_type": "code",
   "execution_count": 46,
   "id": "ea96c492",
   "metadata": {
    "ExecuteTime": {
     "end_time": "2022-09-18T20:36:19.165940Z",
     "start_time": "2022-09-18T20:36:17.785554Z"
    },
    "code_folding": [],
    "hidden": true
   },
   "outputs": [
    {
     "data": {
      "image/png": "[encoded data removed]",
      "text/plain": [
       "<Figure size 432x288 with 2 Axes>"
      ]
     },
     "metadata": {
      "needs_background": "light"
     },
     "output_type": "display_data"
    }
   ],
   "source": [
    "# only categorical data\n",
    "a = df4.select_dtypes( include='object' )\n",
    "\n",
    "# Calculate cramer V\n",
    "a1 = cramer_v( a['state_holiday'], a['state_holiday'] )\n",
    "a2 = cramer_v( a['state_holiday'], a['store_type'] )\n",
    "a3 = cramer_v( a['state_holiday'], a['assortment'] )\n",
    "\n",
    "a4 = cramer_v( a['store_type'], a['state_holiday'] )\n",
    "a5 = cramer_v( a['store_type'], a['store_type'] )\n",
    "a6 = cramer_v( a['store_type'], a['assortment'] )\n",
    "\n",
    "a7 = cramer_v( a['assortment'], a['state_holiday'] )\n",
    "a8 = cramer_v( a['assortment'], a['store_type'] )\n",
    "a9 = cramer_v( a['assortment'], a['assortment'] )\n",
    "\n",
    "# Final dataset\n",
    "d = pd.DataFrame({ 'state_holiday' : [a1, a2, a3],\n",
    "               'store_type' : [a4, a5, a6],\n",
    "               'assortment' : [a7, a8, a9]             \n",
    "             })\n",
    "\n",
    "d = d.set_index( d.columns )\n",
    "\n",
    "sns.heatmap( d, annot=True );"
   ]
  },
  {
   "cell_type": "markdown",
   "id": "c0b2ca98",
   "metadata": {
    "heading_collapsed": true
   },
   "source": [
    "# 5.0. PASSO 05 - DATA PREPARATION"
   ]
  },
  {
   "cell_type": "code",
   "execution_count": 47,
   "id": "3d411e46",
   "metadata": {
    "ExecuteTime": {
     "end_time": "2022-09-18T20:36:19.213460Z",
     "start_time": "2022-09-18T20:36:19.167666Z"
    },
    "hidden": true
   },
   "outputs": [],
   "source": [
    "df5 = df4.copy()"
   ]
  },
  {
   "cell_type": "markdown",
   "id": "cd2306e7",
   "metadata": {
    "heading_collapsed": true,
    "hidden": true
   },
   "source": [
    "## 5.1. Normalizacao"
   ]
  },
  {
   "cell_type": "markdown",
   "id": "542a30ef",
   "metadata": {
    "heading_collapsed": true,
    "hidden": true
   },
   "source": [
    "## 5.2. Rescaling"
   ]
  },
  {
   "cell_type": "code",
   "execution_count": 48,
   "id": "36455376",
   "metadata": {
    "ExecuteTime": {
     "end_time": "2022-09-18T20:36:19.228444Z",
     "start_time": "2022-09-18T20:36:19.214379Z"
    },
    "hidden": true
   },
   "outputs": [],
   "source": [
    "a = df5.select_dtypes( include=['int64','float64'] ) "
   ]
  },
  {
   "cell_type": "code",
   "execution_count": 49,
   "id": "62913501",
   "metadata": {
    "ExecuteTime": {
     "end_time": "2022-09-18T20:36:19.384224Z",
     "start_time": "2022-09-18T20:36:19.230336Z"
    },
    "hidden": true
   },
   "outputs": [
    {
     "name": "stderr",
     "output_type": "stream",
     "text": [
      "C:\\Users\\leona\\anaconda3\\envs\\DataScience_Em_Producao\\lib\\site-packages\\seaborn\\_decorators.py:36: FutureWarning: Pass the following variable as a keyword arg: x. From version 0.12, the only valid positional argument will be `data`, and passing other arguments without an explicit keyword will result in an error or misinterpretation.\n",
      "  warnings.warn(\n"
     ]
    },
    {
     "data": {
      "image/png": "[encoded data removed]",
      "text/plain": [
       "<Figure size 432x288 with 1 Axes>"
      ]
     },
     "metadata": {
      "needs_background": "light"
     },
     "output_type": "display_data"
    }
   ],
   "source": [
    "sns.boxplot( df5['promo_time_week'] );"
   ]
  },
  {
   "cell_type": "code",
   "execution_count": null,
   "id": "6595d7fb",
   "metadata": {
    "ExecuteTime": {
     "end_time": "2022-09-04T20:25:10.325306Z",
     "start_time": "2022-09-04T20:25:10.320344Z"
    },
    "hidden": true
   },
   "outputs": [],
   "source": []
  },
  {
   "cell_type": "code",
   "execution_count": 50,
   "id": "35f9e1b6",
   "metadata": {
    "ExecuteTime": {
     "end_time": "2022-09-18T20:36:19.399516Z",
     "start_time": "2022-09-18T20:36:19.386200Z"
    },
    "hidden": true
   },
   "outputs": [],
   "source": [
    "rs = RobustScaler()\n",
    "mms = MinMaxScaler()"
   ]
  },
  {
   "cell_type": "code",
   "execution_count": 51,
   "id": "253eb310",
   "metadata": {
    "ExecuteTime": {
     "end_time": "2022-09-18T20:36:19.599515Z",
     "start_time": "2022-09-18T20:36:19.400517Z"
    },
    "hidden": true
   },
   "outputs": [],
   "source": [
    "# day_of_week\n",
    "\n",
    "# competition_distance\n",
    "df5['competition_distance'] = rs.fit_transform( df5[['competition_distance']].values )\n",
    "\n",
    "# competition_time_month\n",
    "df5['competition_time_month'] = rs.fit_transform( df5[['competition_time_month']].values )\n",
    "\n",
    "# promo_time_week\n",
    "df5['promo_time_week'] = mms.fit_transform( df5[['promo_time_week']].values )\n",
    "\n",
    "# year\n",
    "df5['year'] = mms.fit_transform( df5[['year']].values )\n"
   ]
  },
  {
   "cell_type": "markdown",
   "id": "9f15398b",
   "metadata": {
    "hidden": true
   },
   "source": [
    "## 5.3. Transformacao"
   ]
  },
  {
   "cell_type": "markdown",
   "id": "a013cb5d",
   "metadata": {
    "heading_collapsed": true,
    "hidden": true
   },
   "source": [
    "### 5.3.1. Encoding"
   ]
  },
  {
   "cell_type": "code",
   "execution_count": 52,
   "id": "e8b836c7",
   "metadata": {
    "ExecuteTime": {
     "end_time": "2022-09-18T20:36:20.003659Z",
     "start_time": "2022-09-18T20:36:19.600539Z"
    },
    "hidden": true
   },
   "outputs": [],
   "source": [
    "# state_holiday - One Hot Encoding \n",
    "df5 = pd.get_dummies( df5, prefix=['state_holiday'], columns=['state_holiday'] )\n",
    "\n",
    "# store_type - Label Encoding \n",
    "le = LabelEncoder()\n",
    "df5['store_type'] = le.fit_transform( df5['store_type'] )\n",
    "\n",
    "# assortment - Ordinal Encoding\n",
    "assortment_dict = {'basic': 1, 'extra': 2, 'extended': 3}\n",
    "df5['assortment'] = df5['assortment'].map( assortment_dict )"
   ]
  },
  {
   "cell_type": "markdown",
   "id": "4d669a30",
   "metadata": {
    "heading_collapsed": true,
    "hidden": true
   },
   "source": [
    "### 5.3.2. Response Variable Transformation "
   ]
  },
  {
   "cell_type": "code",
   "execution_count": 53,
   "id": "809c1142",
   "metadata": {
    "ExecuteTime": {
     "end_time": "2022-09-18T20:36:25.972737Z",
     "start_time": "2022-09-18T20:36:20.004654Z"
    },
    "hidden": true
   },
   "outputs": [
    {
     "name": "stderr",
     "output_type": "stream",
     "text": [
      "C:\\Users\\leona\\anaconda3\\envs\\DataScience_Em_Producao\\lib\\site-packages\\seaborn\\distributions.py:2619: FutureWarning: `distplot` is a deprecated function and will be removed in a future version. Please adapt your code to use either `displot` (a figure-level function with similar flexibility) or `histplot` (an axes-level function for histograms).\n",
      "  warnings.warn(msg, FutureWarning)\n"
     ]
    },
    {
     "data": {
      "text/plain": [
       "<AxesSubplot:xlabel='sales', ylabel='Density'>"
      ]
     },
     "execution_count": 53,
     "metadata": {},
     "output_type": "execute_result"
    },
    {
     "data": {
      "image/png": "[encoded data removed]",
      "text/plain": [
       "<Figure size 432x288 with 1 Axes>"
      ]
     },
     "metadata": {
      "needs_background": "light"
     },
     "output_type": "display_data"
    }
   ],
   "source": [
    "sns.distplot(df5['sales'])"
   ]
  },
  {
   "cell_type": "code",
   "execution_count": 54,
   "id": "b0e640cc",
   "metadata": {
    "ExecuteTime": {
     "end_time": "2022-09-18T20:36:26.003712Z",
     "start_time": "2022-09-18T20:36:25.974713Z"
    },
    "hidden": true
   },
   "outputs": [],
   "source": [
    "df5['sales'] = np.log1p( df5['sales'] )"
   ]
  },
  {
   "cell_type": "code",
   "execution_count": 55,
   "id": "6a574168",
   "metadata": {
    "ExecuteTime": {
     "end_time": "2022-09-18T20:36:32.043673Z",
     "start_time": "2022-09-18T20:36:26.004709Z"
    },
    "hidden": true
   },
   "outputs": [
    {
     "name": "stderr",
     "output_type": "stream",
     "text": [
      "C:\\Users\\leona\\anaconda3\\envs\\DataScience_Em_Producao\\lib\\site-packages\\seaborn\\distributions.py:2619: FutureWarning: `distplot` is a deprecated function and will be removed in a future version. Please adapt your code to use either `displot` (a figure-level function with similar flexibility) or `histplot` (an axes-level function for histograms).\n",
      "  warnings.warn(msg, FutureWarning)\n"
     ]
    },
    {
     "data": {
      "text/plain": [
       "<AxesSubplot:xlabel='sales', ylabel='Density'>"
      ]
     },
     "execution_count": 55,
     "metadata": {},
     "output_type": "execute_result"
    },
    {
     "data": {
      "image/png": "[encoded data removed]",
      "text/plain": [
       "<Figure size 432x288 with 1 Axes>"
      ]
     },
     "metadata": {
      "needs_background": "light"
     },
     "output_type": "display_data"
    }
   ],
   "source": [
    "sns.distplot(df5['sales'])"
   ]
  },
  {
   "cell_type": "markdown",
   "id": "d90bce10",
   "metadata": {
    "hidden": true
   },
   "source": [
    "### 5.3.3. Nature Transformation "
   ]
  },
  {
   "cell_type": "code",
   "execution_count": 56,
   "id": "aaed55a0",
   "metadata": {
    "ExecuteTime": {
     "end_time": "2022-09-18T20:36:38.434383Z",
     "start_time": "2022-09-18T20:36:32.045642Z"
    },
    "hidden": true
   },
   "outputs": [],
   "source": [
    "# day_of_week\n",
    "df5['day_of_week_sin'] = df5['day_of_week'].apply(lambda x: np.sin( x * (2. * np.pi/7 ) ) )\n",
    "df5['day_of_week_cos'] = df5['day_of_week'].apply(lambda x: np.cos( x * (2. * np.pi/7 ) ) )\n",
    "\n",
    "# month\n",
    "df5['month_sin'] = df5['month'].apply(lambda x: np.sin( x * (2. * np.pi/12 ) ) )\n",
    "df5['month_cos'] = df5['month'].apply(lambda x: np.cos( x * (2. * np.pi/12 ) ) )\n",
    "\n",
    "# day\n",
    "df5['day_sin'] = df5['day'].apply(lambda x: np.sin( x * (2. * np.pi/30 ) ) )\n",
    "df5['day_cos'] = df5['day'].apply(lambda x: np.cos( x * (2. * np.pi/30 ) ) )\n",
    "\n",
    "# week_of_year\n",
    "df5['week_of_year_sin'] = df5['week_of_year'].apply(lambda x: np.sin( x * (2. * np.pi/52 ) ) )\n",
    "df5['week_of_year_cos'] = df5['week_of_year'].apply(lambda x: np.cos( x * (2. * np.pi/52 ) ) )"
   ]
  },
  {
   "cell_type": "code",
   "execution_count": 57,
   "id": "4e56acd8",
   "metadata": {
    "ExecuteTime": {
     "end_time": "2022-09-18T20:36:38.636255Z",
     "start_time": "2022-09-18T20:36:38.435396Z"
    },
    "hidden": true
   },
   "outputs": [
    {
     "data": {
      "text/html": [
       "<div>\n",
       "<style scoped>\n",
       "    .dataframe tbody tr th:only-of-type {\n",
       "        vertical-align: middle;\n",
       "    }\n",
       "\n",
       "    .dataframe tbody tr th {\n",
       "        vertical-align: top;\n",
       "    }\n",
       "\n",
       "    .dataframe thead th {\n",
       "        text-align: right;\n",
       "    }\n",
       "</style>\n",
       "<table border=\"1\" class=\"dataframe\">\n",
       "  <thead>\n",
       "    <tr style=\"text-align: right;\">\n",
       "      <th></th>\n",
       "      <th>store</th>\n",
       "      <th>day_of_week</th>\n",
       "      <th>date</th>\n",
       "      <th>sales</th>\n",
       "      <th>promo</th>\n",
       "      <th>school_holiday</th>\n",
       "      <th>store_type</th>\n",
       "      <th>assortment</th>\n",
       "      <th>competition_distance</th>\n",
       "      <th>competition_open_since_month</th>\n",
       "      <th>...</th>\n",
       "      <th>state_holiday_public_holiday</th>\n",
       "      <th>state_holiday_regular_day</th>\n",
       "      <th>day_of_week_sin</th>\n",
       "      <th>day_of_week_cos</th>\n",
       "      <th>month_sin</th>\n",
       "      <th>month_cos</th>\n",
       "      <th>day_sin</th>\n",
       "      <th>day_cos</th>\n",
       "      <th>week_of_year_sin</th>\n",
       "      <th>week_of_year_cos</th>\n",
       "    </tr>\n",
       "  </thead>\n",
       "  <tbody>\n",
       "    <tr>\n",
       "      <th>0</th>\n",
       "      <td>1</td>\n",
       "      <td>5</td>\n",
       "      <td>2015-07-31</td>\n",
       "      <td>8.568646</td>\n",
       "      <td>1</td>\n",
       "      <td>1</td>\n",
       "      <td>2</td>\n",
       "      <td>1</td>\n",
       "      <td>-0.170968</td>\n",
       "      <td>9</td>\n",
       "      <td>...</td>\n",
       "      <td>0</td>\n",
       "      <td>1</td>\n",
       "      <td>-0.974928</td>\n",
       "      <td>-0.222521</td>\n",
       "      <td>-0.5</td>\n",
       "      <td>-0.866025</td>\n",
       "      <td>0.207912</td>\n",
       "      <td>0.978148</td>\n",
       "      <td>-0.568065</td>\n",
       "      <td>-0.822984</td>\n",
       "    </tr>\n",
       "    <tr>\n",
       "      <th>1</th>\n",
       "      <td>2</td>\n",
       "      <td>5</td>\n",
       "      <td>2015-07-31</td>\n",
       "      <td>8.710290</td>\n",
       "      <td>1</td>\n",
       "      <td>1</td>\n",
       "      <td>0</td>\n",
       "      <td>1</td>\n",
       "      <td>-0.283871</td>\n",
       "      <td>11</td>\n",
       "      <td>...</td>\n",
       "      <td>0</td>\n",
       "      <td>1</td>\n",
       "      <td>-0.974928</td>\n",
       "      <td>-0.222521</td>\n",
       "      <td>-0.5</td>\n",
       "      <td>-0.866025</td>\n",
       "      <td>0.207912</td>\n",
       "      <td>0.978148</td>\n",
       "      <td>-0.568065</td>\n",
       "      <td>-0.822984</td>\n",
       "    </tr>\n",
       "    <tr>\n",
       "      <th>2</th>\n",
       "      <td>3</td>\n",
       "      <td>5</td>\n",
       "      <td>2015-07-31</td>\n",
       "      <td>9.025816</td>\n",
       "      <td>1</td>\n",
       "      <td>1</td>\n",
       "      <td>0</td>\n",
       "      <td>1</td>\n",
       "      <td>1.903226</td>\n",
       "      <td>12</td>\n",
       "      <td>...</td>\n",
       "      <td>0</td>\n",
       "      <td>1</td>\n",
       "      <td>-0.974928</td>\n",
       "      <td>-0.222521</td>\n",
       "      <td>-0.5</td>\n",
       "      <td>-0.866025</td>\n",
       "      <td>0.207912</td>\n",
       "      <td>0.978148</td>\n",
       "      <td>-0.568065</td>\n",
       "      <td>-0.822984</td>\n",
       "    </tr>\n",
       "    <tr>\n",
       "      <th>3</th>\n",
       "      <td>4</td>\n",
       "      <td>5</td>\n",
       "      <td>2015-07-31</td>\n",
       "      <td>9.546527</td>\n",
       "      <td>1</td>\n",
       "      <td>1</td>\n",
       "      <td>2</td>\n",
       "      <td>3</td>\n",
       "      <td>-0.275806</td>\n",
       "      <td>9</td>\n",
       "      <td>...</td>\n",
       "      <td>0</td>\n",
       "      <td>1</td>\n",
       "      <td>-0.974928</td>\n",
       "      <td>-0.222521</td>\n",
       "      <td>-0.5</td>\n",
       "      <td>-0.866025</td>\n",
       "      <td>0.207912</td>\n",
       "      <td>0.978148</td>\n",
       "      <td>-0.568065</td>\n",
       "      <td>-0.822984</td>\n",
       "    </tr>\n",
       "    <tr>\n",
       "      <th>4</th>\n",
       "      <td>5</td>\n",
       "      <td>5</td>\n",
       "      <td>2015-07-31</td>\n",
       "      <td>8.481151</td>\n",
       "      <td>1</td>\n",
       "      <td>1</td>\n",
       "      <td>0</td>\n",
       "      <td>1</td>\n",
       "      <td>4.448387</td>\n",
       "      <td>4</td>\n",
       "      <td>...</td>\n",
       "      <td>0</td>\n",
       "      <td>1</td>\n",
       "      <td>-0.974928</td>\n",
       "      <td>-0.222521</td>\n",
       "      <td>-0.5</td>\n",
       "      <td>-0.866025</td>\n",
       "      <td>0.207912</td>\n",
       "      <td>0.978148</td>\n",
       "      <td>-0.568065</td>\n",
       "      <td>-0.822984</td>\n",
       "    </tr>\n",
       "    <tr>\n",
       "      <th>...</th>\n",
       "      <td>...</td>\n",
       "      <td>...</td>\n",
       "      <td>...</td>\n",
       "      <td>...</td>\n",
       "      <td>...</td>\n",
       "      <td>...</td>\n",
       "      <td>...</td>\n",
       "      <td>...</td>\n",
       "      <td>...</td>\n",
       "      <td>...</td>\n",
       "      <td>...</td>\n",
       "      <td>...</td>\n",
       "      <td>...</td>\n",
       "      <td>...</td>\n",
       "      <td>...</td>\n",
       "      <td>...</td>\n",
       "      <td>...</td>\n",
       "      <td>...</td>\n",
       "      <td>...</td>\n",
       "      <td>...</td>\n",
       "      <td>...</td>\n",
       "    </tr>\n",
       "    <tr>\n",
       "      <th>1016776</th>\n",
       "      <td>682</td>\n",
       "      <td>2</td>\n",
       "      <td>2013-01-01</td>\n",
       "      <td>8.124447</td>\n",
       "      <td>0</td>\n",
       "      <td>1</td>\n",
       "      <td>1</td>\n",
       "      <td>1</td>\n",
       "      <td>-0.351613</td>\n",
       "      <td>9</td>\n",
       "      <td>...</td>\n",
       "      <td>1</td>\n",
       "      <td>0</td>\n",
       "      <td>0.974928</td>\n",
       "      <td>-0.222521</td>\n",
       "      <td>0.5</td>\n",
       "      <td>0.866025</td>\n",
       "      <td>0.207912</td>\n",
       "      <td>0.978148</td>\n",
       "      <td>0.120537</td>\n",
       "      <td>0.992709</td>\n",
       "    </tr>\n",
       "    <tr>\n",
       "      <th>1016827</th>\n",
       "      <td>733</td>\n",
       "      <td>2</td>\n",
       "      <td>2013-01-01</td>\n",
       "      <td>9.284148</td>\n",
       "      <td>0</td>\n",
       "      <td>1</td>\n",
       "      <td>1</td>\n",
       "      <td>2</td>\n",
       "      <td>-0.237097</td>\n",
       "      <td>10</td>\n",
       "      <td>...</td>\n",
       "      <td>1</td>\n",
       "      <td>0</td>\n",
       "      <td>0.974928</td>\n",
       "      <td>-0.222521</td>\n",
       "      <td>0.5</td>\n",
       "      <td>0.866025</td>\n",
       "      <td>0.207912</td>\n",
       "      <td>0.978148</td>\n",
       "      <td>0.120537</td>\n",
       "      <td>0.992709</td>\n",
       "    </tr>\n",
       "    <tr>\n",
       "      <th>1016863</th>\n",
       "      <td>769</td>\n",
       "      <td>2</td>\n",
       "      <td>2013-01-01</td>\n",
       "      <td>8.524367</td>\n",
       "      <td>0</td>\n",
       "      <td>1</td>\n",
       "      <td>1</td>\n",
       "      <td>2</td>\n",
       "      <td>-0.240323</td>\n",
       "      <td>1</td>\n",
       "      <td>...</td>\n",
       "      <td>1</td>\n",
       "      <td>0</td>\n",
       "      <td>0.974928</td>\n",
       "      <td>-0.222521</td>\n",
       "      <td>0.5</td>\n",
       "      <td>0.866025</td>\n",
       "      <td>0.207912</td>\n",
       "      <td>0.978148</td>\n",
       "      <td>0.120537</td>\n",
       "      <td>0.992709</td>\n",
       "    </tr>\n",
       "    <tr>\n",
       "      <th>1017042</th>\n",
       "      <td>948</td>\n",
       "      <td>2</td>\n",
       "      <td>2013-01-01</td>\n",
       "      <td>8.410053</td>\n",
       "      <td>0</td>\n",
       "      <td>1</td>\n",
       "      <td>1</td>\n",
       "      <td>2</td>\n",
       "      <td>-0.145161</td>\n",
       "      <td>1</td>\n",
       "      <td>...</td>\n",
       "      <td>1</td>\n",
       "      <td>0</td>\n",
       "      <td>0.974928</td>\n",
       "      <td>-0.222521</td>\n",
       "      <td>0.5</td>\n",
       "      <td>0.866025</td>\n",
       "      <td>0.207912</td>\n",
       "      <td>0.978148</td>\n",
       "      <td>0.120537</td>\n",
       "      <td>0.992709</td>\n",
       "    </tr>\n",
       "    <tr>\n",
       "      <th>1017190</th>\n",
       "      <td>1097</td>\n",
       "      <td>2</td>\n",
       "      <td>2013-01-01</td>\n",
       "      <td>8.693161</td>\n",
       "      <td>0</td>\n",
       "      <td>1</td>\n",
       "      <td>1</td>\n",
       "      <td>2</td>\n",
       "      <td>-0.259677</td>\n",
       "      <td>3</td>\n",
       "      <td>...</td>\n",
       "      <td>1</td>\n",
       "      <td>0</td>\n",
       "      <td>0.974928</td>\n",
       "      <td>-0.222521</td>\n",
       "      <td>0.5</td>\n",
       "      <td>0.866025</td>\n",
       "      <td>0.207912</td>\n",
       "      <td>0.978148</td>\n",
       "      <td>0.120537</td>\n",
       "      <td>0.992709</td>\n",
       "    </tr>\n",
       "  </tbody>\n",
       "</table>\n",
       "<p>844338 rows × 36 columns</p>\n",
       "</div>"
      ],
      "text/plain": [
       "         store  day_of_week       date     sales  promo  school_holiday  \\\n",
       "0            1            5 2015-07-31  8.568646      1               1   \n",
       "1            2            5 2015-07-31  8.710290      1               1   \n",
       "2            3            5 2015-07-31  9.025816      1               1   \n",
       "3            4            5 2015-07-31  9.546527      1               1   \n",
       "4            5            5 2015-07-31  8.481151      1               1   \n",
       "...        ...          ...        ...       ...    ...             ...   \n",
       "1016776    682            2 2013-01-01  8.124447      0               1   \n",
       "1016827    733            2 2013-01-01  9.284148      0               1   \n",
       "1016863    769            2 2013-01-01  8.524367      0               1   \n",
       "1017042    948            2 2013-01-01  8.410053      0               1   \n",
       "1017190   1097            2 2013-01-01  8.693161      0               1   \n",
       "\n",
       "         store_type  assortment  competition_distance  \\\n",
       "0                 2           1             -0.170968   \n",
       "1                 0           1             -0.283871   \n",
       "2                 0           1              1.903226   \n",
       "3                 2           3             -0.275806   \n",
       "4                 0           1              4.448387   \n",
       "...             ...         ...                   ...   \n",
       "1016776           1           1             -0.351613   \n",
       "1016827           1           2             -0.237097   \n",
       "1016863           1           2             -0.240323   \n",
       "1017042           1           2             -0.145161   \n",
       "1017190           1           2             -0.259677   \n",
       "\n",
       "         competition_open_since_month  ...  state_holiday_public_holiday  \\\n",
       "0                                   9  ...                             0   \n",
       "1                                  11  ...                             0   \n",
       "2                                  12  ...                             0   \n",
       "3                                   9  ...                             0   \n",
       "4                                   4  ...                             0   \n",
       "...                               ...  ...                           ...   \n",
       "1016776                             9  ...                             1   \n",
       "1016827                            10  ...                             1   \n",
       "1016863                             1  ...                             1   \n",
       "1017042                             1  ...                             1   \n",
       "1017190                             3  ...                             1   \n",
       "\n",
       "         state_holiday_regular_day  day_of_week_sin  day_of_week_cos  \\\n",
       "0                                1        -0.974928        -0.222521   \n",
       "1                                1        -0.974928        -0.222521   \n",
       "2                                1        -0.974928        -0.222521   \n",
       "3                                1        -0.974928        -0.222521   \n",
       "4                                1        -0.974928        -0.222521   \n",
       "...                            ...              ...              ...   \n",
       "1016776                          0         0.974928        -0.222521   \n",
       "1016827                          0         0.974928        -0.222521   \n",
       "1016863                          0         0.974928        -0.222521   \n",
       "1017042                          0         0.974928        -0.222521   \n",
       "1017190                          0         0.974928        -0.222521   \n",
       "\n",
       "         month_sin  month_cos   day_sin   day_cos  week_of_year_sin  \\\n",
       "0             -0.5  -0.866025  0.207912  0.978148         -0.568065   \n",
       "1             -0.5  -0.866025  0.207912  0.978148         -0.568065   \n",
       "2             -0.5  -0.866025  0.207912  0.978148         -0.568065   \n",
       "3             -0.5  -0.866025  0.207912  0.978148         -0.568065   \n",
       "4             -0.5  -0.866025  0.207912  0.978148         -0.568065   \n",
       "...            ...        ...       ...       ...               ...   \n",
       "1016776        0.5   0.866025  0.207912  0.978148          0.120537   \n",
       "1016827        0.5   0.866025  0.207912  0.978148          0.120537   \n",
       "1016863        0.5   0.866025  0.207912  0.978148          0.120537   \n",
       "1017042        0.5   0.866025  0.207912  0.978148          0.120537   \n",
       "1017190        0.5   0.866025  0.207912  0.978148          0.120537   \n",
       "\n",
       "        week_of_year_cos  \n",
       "0              -0.822984  \n",
       "1              -0.822984  \n",
       "2              -0.822984  \n",
       "3              -0.822984  \n",
       "4              -0.822984  \n",
       "...                  ...  \n",
       "1016776         0.992709  \n",
       "1016827         0.992709  \n",
       "1016863         0.992709  \n",
       "1017042         0.992709  \n",
       "1017190         0.992709  \n",
       "\n",
       "[844338 rows x 36 columns]"
      ]
     },
     "execution_count": 57,
     "metadata": {},
     "output_type": "execute_result"
    }
   ],
   "source": [
    "df5"
   ]
  },
  {
   "cell_type": "markdown",
   "id": "9f65fbed",
   "metadata": {},
   "source": [
    "# 6.0. PASSO 06 - FEATURE SELECTION "
   ]
  },
  {
   "cell_type": "code",
   "execution_count": 58,
   "id": "adde4e85",
   "metadata": {
    "ExecuteTime": {
     "end_time": "2022-09-18T20:36:38.807289Z",
     "start_time": "2022-09-18T20:36:38.638250Z"
    }
   },
   "outputs": [],
   "source": [
    "df6 = df5.copy()"
   ]
  },
  {
   "cell_type": "markdown",
   "id": "57060fd6",
   "metadata": {},
   "source": [
    "## 6.1. Split dataframe into training and test dataset"
   ]
  },
  {
   "cell_type": "code",
   "execution_count": 59,
   "id": "8b692a25",
   "metadata": {
    "ExecuteTime": {
     "end_time": "2022-09-18T20:36:38.823256Z",
     "start_time": "2022-09-18T20:36:38.808263Z"
    }
   },
   "outputs": [
    {
     "data": {
      "text/plain": [
       "Index(['store', 'day_of_week', 'date', 'sales', 'promo', 'school_holiday',\n",
       "       'store_type', 'assortment', 'competition_distance',\n",
       "       'competition_open_since_month', 'competition_open_since_year', 'promo2',\n",
       "       'promo2_since_week', 'promo2_since_year', 'is_promo', 'year', 'month',\n",
       "       'day', 'week_of_year', 'year_week', 'competition_since',\n",
       "       'competition_time_month', 'promo_since', 'promo_time_week',\n",
       "       'state_holiday_christimas', 'state_holiday_easter_holiday',\n",
       "       'state_holiday_public_holiday', 'state_holiday_regular_day',\n",
       "       'day_of_week_sin', 'day_of_week_cos', 'month_sin', 'month_cos',\n",
       "       'day_sin', 'day_cos', 'week_of_year_sin', 'week_of_year_cos'],\n",
       "      dtype='object')"
      ]
     },
     "execution_count": 59,
     "metadata": {},
     "output_type": "execute_result"
    }
   ],
   "source": [
    "df6.columns"
   ]
  },
  {
   "cell_type": "code",
   "execution_count": 60,
   "id": "1ba2af35",
   "metadata": {
    "ExecuteTime": {
     "end_time": "2022-09-18T20:36:38.901613Z",
     "start_time": "2022-09-18T20:36:38.825218Z"
    }
   },
   "outputs": [],
   "source": [
    "cols_drop = ['week_of_year', 'day', 'month', 'day_of_week', 'promo_since', 'competition_since', 'year_week']\n",
    "df6 = df6.drop( cols_drop, axis=1 )"
   ]
  },
  {
   "cell_type": "code",
   "execution_count": 61,
   "id": "5ca64750",
   "metadata": {
    "ExecuteTime": {
     "end_time": "2022-09-18T20:36:38.947575Z",
     "start_time": "2022-09-18T20:36:38.902588Z"
    }
   },
   "outputs": [
    {
     "data": {
      "text/plain": [
       "Timestamp('2015-06-19 00:00:00')"
      ]
     },
     "execution_count": 61,
     "metadata": {},
     "output_type": "execute_result"
    }
   ],
   "source": [
    "df6[['store','date']].groupby( 'store' ).max().reset_index()['date'][0] - datetime.timedelta( days=7*6 )"
   ]
  },
  {
   "cell_type": "code",
   "execution_count": 62,
   "id": "edddb93c",
   "metadata": {
    "ExecuteTime": {
     "end_time": "2022-09-18T20:36:39.057372Z",
     "start_time": "2022-09-18T20:36:38.948572Z"
    }
   },
   "outputs": [
    {
     "name": "stdout",
     "output_type": "stream",
     "text": [
      "Training Min Date: 2013-01-01 00:00:00\n",
      "Training Max Date: 2015-06-18 00:00:00\n",
      "\n",
      "Test Min Date: 2015-06-19 00:00:00\n",
      "Test Max Date: 2015-07-31 00:00:00\n"
     ]
    }
   ],
   "source": [
    "# training dataset\n",
    "X_train = df6[df6['date'] < '2015-06-19']\n",
    "y_train = X_train['sales']\n",
    "\n",
    "# test dataset\n",
    "X_test = df6[df6['date'] >= '2015-06-19']\n",
    "y_test = X_test['sales']\n",
    "\n",
    "print( 'Training Min Date: {}' .format( X_train['date'].min() ))\n",
    "print( 'Training Max Date: {}' .format( X_train['date'].max() ))\n",
    "\n",
    "print( '\\nTest Min Date: {}' .format( X_test['date'].min() ))\n",
    "print( 'Test Max Date: {}' .format( X_test['date'].max() ))"
   ]
  },
  {
   "cell_type": "markdown",
   "id": "9817a9d6",
   "metadata": {},
   "source": [
    "## 6.2. Boruta as Feature Selector"
   ]
  },
  {
   "cell_type": "markdown",
   "id": "de72171a",
   "metadata": {
    "ExecuteTime": {
     "end_time": "2022-09-17T20:05:09.348963Z",
     "start_time": "2022-09-17T19:06:09.913869Z"
    }
   },
   "source": [
    "# training and test dataset for Boruta\n",
    "X_train_n = X_train.drop( ['date', 'sales'], axis=1 ).values\n",
    "y_train_n = y_train.values.ravel()\n",
    "\n",
    "# define RandomForestRegressor\n",
    "rf = RandomForestRegressor( n_jobs=-1 )\n",
    "boruta = BorutaPy( rf, n_estimators='auto', verbose=2, random_state=42  ).fit( X_train_n, y_train_n )"
   ]
  },
  {
   "cell_type": "markdown",
   "id": "c6cdd1e7",
   "metadata": {},
   "source": [
    "### 6.2.1. Best features from Boruta"
   ]
  },
  {
   "cell_type": "code",
   "execution_count": 63,
   "id": "8142b410",
   "metadata": {
    "ExecuteTime": {
     "end_time": "2022-09-18T20:36:39.475738Z",
     "start_time": "2022-09-18T20:36:39.058346Z"
    },
    "hide_input": false
   },
   "outputs": [
    {
     "ename": "NameError",
     "evalue": "name 'boruta' is not defined",
     "output_type": "error",
     "traceback": [
      "\u001b[1;31m---------------------------------------------------------------------------\u001b[0m",
      "\u001b[1;31mNameError\u001b[0m                                 Traceback (most recent call last)",
      "Input \u001b[1;32mIn [63]\u001b[0m, in \u001b[0;36m<cell line: 1>\u001b[1;34m()\u001b[0m\n\u001b[1;32m----> 1\u001b[0m cols_selected \u001b[38;5;241m=\u001b[39m \u001b[43mboruta\u001b[49m\u001b[38;5;241m.\u001b[39msupport_\u001b[38;5;241m.\u001b[39mtolist()\n\u001b[0;32m      3\u001b[0m \u001b[38;5;66;03m# best features \u001b[39;00m\n\u001b[0;32m      4\u001b[0m X_train_fs \u001b[38;5;241m=\u001b[39m X_train\u001b[38;5;241m.\u001b[39mdrop( [\u001b[38;5;124m'\u001b[39m\u001b[38;5;124mdate\u001b[39m\u001b[38;5;124m'\u001b[39m,\u001b[38;5;124m'\u001b[39m\u001b[38;5;124msales\u001b[39m\u001b[38;5;124m'\u001b[39m], axis\u001b[38;5;241m=\u001b[39m\u001b[38;5;241m1\u001b[39m )\n",
      "\u001b[1;31mNameError\u001b[0m: name 'boruta' is not defined"
     ]
    }
   ],
   "source": [
    "cols_selected = boruta.support_.tolist()\n",
    "\n",
    "# best features \n",
    "X_train_fs = X_train.drop( ['date','sales'], axis=1 )\n",
    "cols_selected_boruta = X_train_fs.iloc[: , cols_selected].columns.to_list()\n",
    "\n",
    "# not selected boruta\n",
    "cols_not_selected_boruta = list( np.setdiff1d( X_train_fs.columns, cols_selected_boruta ) )"
   ]
  },
  {
   "cell_type": "code",
   "execution_count": null,
   "id": "775d4dd4",
   "metadata": {
    "ExecuteTime": {
     "end_time": "2022-09-18T20:36:39.477733Z",
     "start_time": "2022-09-18T20:36:39.477733Z"
    }
   },
   "outputs": [],
   "source": [
    "cols_selected_boruta"
   ]
  },
  {
   "cell_type": "markdown",
   "id": "6ffe529b",
   "metadata": {},
   "source": [
    "## 6.3. Manual Feature Selection"
   ]
  },
  {
   "cell_type": "code",
   "execution_count": 64,
   "id": "720a46c2",
   "metadata": {
    "ExecuteTime": {
     "end_time": "2022-09-18T20:37:42.472011Z",
     "start_time": "2022-09-18T20:37:42.455058Z"
    }
   },
   "outputs": [],
   "source": [
    "cols_selected_boruta = [\n",
    "  'store',\n",
    "  'promo',\n",
    "  'store_type',\n",
    "  'assortment',\n",
    "  'competition_distance',\n",
    "  'competition_open_since_month',\n",
    "  'competition_open_since_year',\n",
    "  'promo2',\n",
    "  'promo2_since_week',\n",
    "  'promo2_since_year',\n",
    "  'competition_time_month',\n",
    "  'promo_time_week',\n",
    "  'day_of_week_sin',\n",
    "  'day_of_week_cos',\n",
    "  'month_sin',  \n",
    "  'month_cos',\n",
    "  'day_sin',\n",
    "  'day_cos',\n",
    "  'week_of_year_cos',\n",
    "  'week_of_year_sin']\n",
    "\n",
    "# columns to add\n",
    "feat_to_add = ['date','sales']\n",
    "\n",
    "cols_selected_boruta_full = cols_selected_boruta.copy()\n",
    "cols_selected_boruta_full.extend( feat_to_add )"
   ]
  },
  {
   "cell_type": "markdown",
   "id": "e0eb7bd7",
   "metadata": {},
   "source": [
    "# 7.0. PASSO 07 - MACHINE LEARNING MODELLING"
   ]
  },
  {
   "cell_type": "code",
   "execution_count": 65,
   "id": "74a94545",
   "metadata": {
    "ExecuteTime": {
     "end_time": "2022-09-18T20:37:47.445795Z",
     "start_time": "2022-09-18T20:37:47.386841Z"
    }
   },
   "outputs": [],
   "source": [
    "x_train = X_train[ cols_selected_boruta ]\n",
    "x_test = X_test[ cols_selected_boruta ]"
   ]
  },
  {
   "cell_type": "markdown",
   "id": "7650f2f2",
   "metadata": {},
   "source": [
    "## 7.1. Average Model"
   ]
  },
  {
   "cell_type": "code",
   "execution_count": 66,
   "id": "03dd3c63",
   "metadata": {
    "ExecuteTime": {
     "end_time": "2022-09-18T20:37:49.421479Z",
     "start_time": "2022-09-18T20:37:49.374574Z"
    }
   },
   "outputs": [
    {
     "data": {
      "text/html": [
       "<div>\n",
       "<style scoped>\n",
       "    .dataframe tbody tr th:only-of-type {\n",
       "        vertical-align: middle;\n",
       "    }\n",
       "\n",
       "    .dataframe tbody tr th {\n",
       "        vertical-align: top;\n",
       "    }\n",
       "\n",
       "    .dataframe thead th {\n",
       "        text-align: right;\n",
       "    }\n",
       "</style>\n",
       "<table border=\"1\" class=\"dataframe\">\n",
       "  <thead>\n",
       "    <tr style=\"text-align: right;\">\n",
       "      <th></th>\n",
       "      <th>Model Name</th>\n",
       "      <th>MAE</th>\n",
       "      <th>MAPE</th>\n",
       "      <th>RMSE</th>\n",
       "    </tr>\n",
       "  </thead>\n",
       "  <tbody>\n",
       "    <tr>\n",
       "      <th>0</th>\n",
       "      <td>Average Model</td>\n",
       "      <td>1354.800353</td>\n",
       "      <td>0.455051</td>\n",
       "      <td>1835.135542</td>\n",
       "    </tr>\n",
       "  </tbody>\n",
       "</table>\n",
       "</div>"
      ],
      "text/plain": [
       "      Model Name          MAE      MAPE         RMSE\n",
       "0  Average Model  1354.800353  0.455051  1835.135542"
      ]
     },
     "execution_count": 66,
     "metadata": {},
     "output_type": "execute_result"
    }
   ],
   "source": [
    "aux1 = x_test.copy()\n",
    "aux1['sales'] = y_test.copy()\n",
    "\n",
    "# prediction\n",
    "aux2 = aux1[['store','sales']].groupby( 'store' ).mean().reset_index().rename( columns={'sales': 'predictions'} )\n",
    "aux1 = pd.merge( aux1, aux2, how='left', on='store')\n",
    "yhat_baseline = aux1['predictions']\n",
    "\n",
    "# performance\n",
    "baseline_result = ml_error( 'Average Model', np.expm1( y_test ),  np.expm1( yhat_baseline ) )\n",
    "baseline_result"
   ]
  },
  {
   "cell_type": "markdown",
   "id": "88f65dc1",
   "metadata": {},
   "source": [
    "## 7.2. Linear Regression Model"
   ]
  },
  {
   "cell_type": "code",
   "execution_count": 67,
   "id": "6b31cf73",
   "metadata": {
    "ExecuteTime": {
     "end_time": "2022-09-18T20:37:52.566402Z",
     "start_time": "2022-09-18T20:37:51.841786Z"
    }
   },
   "outputs": [
    {
     "data": {
      "text/html": [
       "<div>\n",
       "<style scoped>\n",
       "    .dataframe tbody tr th:only-of-type {\n",
       "        vertical-align: middle;\n",
       "    }\n",
       "\n",
       "    .dataframe tbody tr th {\n",
       "        vertical-align: top;\n",
       "    }\n",
       "\n",
       "    .dataframe thead th {\n",
       "        text-align: right;\n",
       "    }\n",
       "</style>\n",
       "<table border=\"1\" class=\"dataframe\">\n",
       "  <thead>\n",
       "    <tr style=\"text-align: right;\">\n",
       "      <th></th>\n",
       "      <th>Model Name</th>\n",
       "      <th>MAE</th>\n",
       "      <th>MAPE</th>\n",
       "      <th>RMSE</th>\n",
       "    </tr>\n",
       "  </thead>\n",
       "  <tbody>\n",
       "    <tr>\n",
       "      <th>0</th>\n",
       "      <td>Linear Regression</td>\n",
       "      <td>1867.089774</td>\n",
       "      <td>0.292694</td>\n",
       "      <td>2671.049215</td>\n",
       "    </tr>\n",
       "  </tbody>\n",
       "</table>\n",
       "</div>"
      ],
      "text/plain": [
       "          Model Name          MAE      MAPE         RMSE\n",
       "0  Linear Regression  1867.089774  0.292694  2671.049215"
      ]
     },
     "execution_count": 67,
     "metadata": {},
     "output_type": "execute_result"
    }
   ],
   "source": [
    "# model\n",
    "lr = LinearRegression().fit( x_train, y_train )\n",
    "\n",
    "# prediction\n",
    "yhat_lr = lr.predict( x_test )\n",
    "\n",
    "# perfomance\n",
    "lr_result = ml_error( 'Linear Regression', np.expm1( y_test ),  np.expm1( yhat_lr ) )\n",
    "lr_result"
   ]
  },
  {
   "cell_type": "markdown",
   "id": "d7df3289",
   "metadata": {},
   "source": [
    "## 7.3. Linear Regression Regularized Model - Lasso"
   ]
  },
  {
   "cell_type": "code",
   "execution_count": 68,
   "id": "56184eb1",
   "metadata": {
    "ExecuteTime": {
     "end_time": "2022-09-18T20:37:54.661957Z",
     "start_time": "2022-09-18T20:37:54.000726Z"
    }
   },
   "outputs": [
    {
     "data": {
      "text/html": [
       "<div>\n",
       "<style scoped>\n",
       "    .dataframe tbody tr th:only-of-type {\n",
       "        vertical-align: middle;\n",
       "    }\n",
       "\n",
       "    .dataframe tbody tr th {\n",
       "        vertical-align: top;\n",
       "    }\n",
       "\n",
       "    .dataframe thead th {\n",
       "        text-align: right;\n",
       "    }\n",
       "</style>\n",
       "<table border=\"1\" class=\"dataframe\">\n",
       "  <thead>\n",
       "    <tr style=\"text-align: right;\">\n",
       "      <th></th>\n",
       "      <th>Model Name</th>\n",
       "      <th>MAE</th>\n",
       "      <th>MAPE</th>\n",
       "      <th>RMSE</th>\n",
       "    </tr>\n",
       "  </thead>\n",
       "  <tbody>\n",
       "    <tr>\n",
       "      <th>0</th>\n",
       "      <td>Linear Regression - Lasso</td>\n",
       "      <td>1891.704881</td>\n",
       "      <td>0.289106</td>\n",
       "      <td>2744.451737</td>\n",
       "    </tr>\n",
       "  </tbody>\n",
       "</table>\n",
       "</div>"
      ],
      "text/plain": [
       "                  Model Name          MAE      MAPE         RMSE\n",
       "0  Linear Regression - Lasso  1891.704881  0.289106  2744.451737"
      ]
     },
     "execution_count": 68,
     "metadata": {},
     "output_type": "execute_result"
    }
   ],
   "source": [
    "# model\n",
    "lrr = Lasso( alpha = 0.01 ).fit( x_train, y_train )\n",
    "\n",
    "# prediction\n",
    "yhat_lrr = lrr.predict( x_test )\n",
    "\n",
    "# perfomance\n",
    "lrr_result = ml_error( 'Linear Regression - Lasso', np.expm1( y_test ),  np.expm1( yhat_lrr ) )\n",
    "lrr_result"
   ]
  },
  {
   "cell_type": "markdown",
   "id": "32261bf9",
   "metadata": {},
   "source": [
    "## 7.4. Random Forest Regressor"
   ]
  },
  {
   "cell_type": "code",
   "execution_count": 69,
   "id": "00391902",
   "metadata": {
    "ExecuteTime": {
     "end_time": "2022-09-18T20:40:57.075910Z",
     "start_time": "2022-09-18T20:37:56.556911Z"
    }
   },
   "outputs": [
    {
     "data": {
      "text/html": [
       "<div>\n",
       "<style scoped>\n",
       "    .dataframe tbody tr th:only-of-type {\n",
       "        vertical-align: middle;\n",
       "    }\n",
       "\n",
       "    .dataframe tbody tr th {\n",
       "        vertical-align: top;\n",
       "    }\n",
       "\n",
       "    .dataframe thead th {\n",
       "        text-align: right;\n",
       "    }\n",
       "</style>\n",
       "<table border=\"1\" class=\"dataframe\">\n",
       "  <thead>\n",
       "    <tr style=\"text-align: right;\">\n",
       "      <th></th>\n",
       "      <th>Model Name</th>\n",
       "      <th>MAE</th>\n",
       "      <th>MAPE</th>\n",
       "      <th>RMSE</th>\n",
       "    </tr>\n",
       "  </thead>\n",
       "  <tbody>\n",
       "    <tr>\n",
       "      <th>0</th>\n",
       "      <td>Random Forest Regressor</td>\n",
       "      <td>678.39054</td>\n",
       "      <td>0.099811</td>\n",
       "      <td>1008.885714</td>\n",
       "    </tr>\n",
       "  </tbody>\n",
       "</table>\n",
       "</div>"
      ],
      "text/plain": [
       "                Model Name        MAE      MAPE         RMSE\n",
       "0  Random Forest Regressor  678.39054  0.099811  1008.885714"
      ]
     },
     "execution_count": 69,
     "metadata": {},
     "output_type": "execute_result"
    }
   ],
   "source": [
    "# model\n",
    "rf = RandomForestRegressor( n_estimators=100, n_jobs=-1, random_state=42 ).fit( x_train, y_train )\n",
    "\n",
    "# prediction\n",
    "yhat_rf = rf.predict( x_test )\n",
    "\n",
    "# perfomance\n",
    "rf_result = ml_error( 'Random Forest Regressor', np.expm1( y_test ),  np.expm1( yhat_rf ) )\n",
    "rf_result"
   ]
  },
  {
   "cell_type": "markdown",
   "id": "9c70a3ef",
   "metadata": {},
   "source": [
    "## 7.5. XGBoost Regressor"
   ]
  },
  {
   "cell_type": "code",
   "execution_count": 71,
   "id": "8555062b",
   "metadata": {
    "ExecuteTime": {
     "end_time": "2022-09-18T20:42:13.945200Z",
     "start_time": "2022-09-18T20:41:14.783659Z"
    }
   },
   "outputs": [
    {
     "data": {
      "text/html": [
       "<div>\n",
       "<style scoped>\n",
       "    .dataframe tbody tr th:only-of-type {\n",
       "        vertical-align: middle;\n",
       "    }\n",
       "\n",
       "    .dataframe tbody tr th {\n",
       "        vertical-align: top;\n",
       "    }\n",
       "\n",
       "    .dataframe thead th {\n",
       "        text-align: right;\n",
       "    }\n",
       "</style>\n",
       "<table border=\"1\" class=\"dataframe\">\n",
       "  <thead>\n",
       "    <tr style=\"text-align: right;\">\n",
       "      <th></th>\n",
       "      <th>Model Name</th>\n",
       "      <th>MAE</th>\n",
       "      <th>MAPE</th>\n",
       "      <th>RMSE</th>\n",
       "    </tr>\n",
       "  </thead>\n",
       "  <tbody>\n",
       "    <tr>\n",
       "      <th>0</th>\n",
       "      <td>XGBoost Regressor</td>\n",
       "      <td>6683.556773</td>\n",
       "      <td>0.949455</td>\n",
       "      <td>7330.912359</td>\n",
       "    </tr>\n",
       "  </tbody>\n",
       "</table>\n",
       "</div>"
      ],
      "text/plain": [
       "          Model Name          MAE      MAPE         RMSE\n",
       "0  XGBoost Regressor  6683.556773  0.949455  7330.912359"
      ]
     },
     "execution_count": 71,
     "metadata": {},
     "output_type": "execute_result"
    }
   ],
   "source": [
    "# model\n",
    "model_xgb = xgb.XGBRegressor( objective='reg:squarederror',\n",
    "                              n_estimators=100,\n",
    "                              eta=0.01,\n",
    "                              random_state=42,\n",
    "                              max_depth=10,\n",
    "                              subsample=0.7,\n",
    "                              colsample_bytree=0.9).fit( x_train, y_train )\n",
    "\n",
    "# prediction\n",
    "yhat_xgb = model_xgb.predict( x_test )\n",
    "\n",
    "# perfomance\n",
    "xgb_result = ml_error( 'XGBoost Regressor', np.expm1( y_test ),  np.expm1( yhat_xgb ) )\n",
    "xgb_result"
   ]
  },
  {
   "cell_type": "markdown",
   "id": "6a125c0d",
   "metadata": {},
   "source": [
    "## 7.6. Compare Models Performance"
   ]
  },
  {
   "cell_type": "code",
   "execution_count": 72,
   "id": "7b4bf2f7",
   "metadata": {
    "ExecuteTime": {
     "end_time": "2022-09-18T20:42:49.047406Z",
     "start_time": "2022-09-18T20:42:49.034467Z"
    }
   },
   "outputs": [
    {
     "data": {
      "text/html": [
       "<div>\n",
       "<style scoped>\n",
       "    .dataframe tbody tr th:only-of-type {\n",
       "        vertical-align: middle;\n",
       "    }\n",
       "\n",
       "    .dataframe tbody tr th {\n",
       "        vertical-align: top;\n",
       "    }\n",
       "\n",
       "    .dataframe thead th {\n",
       "        text-align: right;\n",
       "    }\n",
       "</style>\n",
       "<table border=\"1\" class=\"dataframe\">\n",
       "  <thead>\n",
       "    <tr style=\"text-align: right;\">\n",
       "      <th></th>\n",
       "      <th>Model Name</th>\n",
       "      <th>MAE</th>\n",
       "      <th>MAPE</th>\n",
       "      <th>RMSE</th>\n",
       "    </tr>\n",
       "  </thead>\n",
       "  <tbody>\n",
       "    <tr>\n",
       "      <th>0</th>\n",
       "      <td>Random Forest Regressor</td>\n",
       "      <td>678.390540</td>\n",
       "      <td>0.099811</td>\n",
       "      <td>1008.885714</td>\n",
       "    </tr>\n",
       "    <tr>\n",
       "      <th>0</th>\n",
       "      <td>Average Model</td>\n",
       "      <td>1354.800353</td>\n",
       "      <td>0.455051</td>\n",
       "      <td>1835.135542</td>\n",
       "    </tr>\n",
       "    <tr>\n",
       "      <th>0</th>\n",
       "      <td>Linear Regression</td>\n",
       "      <td>1867.089774</td>\n",
       "      <td>0.292694</td>\n",
       "      <td>2671.049215</td>\n",
       "    </tr>\n",
       "    <tr>\n",
       "      <th>0</th>\n",
       "      <td>Linear Regression - Lasso</td>\n",
       "      <td>1891.704881</td>\n",
       "      <td>0.289106</td>\n",
       "      <td>2744.451737</td>\n",
       "    </tr>\n",
       "    <tr>\n",
       "      <th>0</th>\n",
       "      <td>XGBoost Regressor</td>\n",
       "      <td>6683.556773</td>\n",
       "      <td>0.949455</td>\n",
       "      <td>7330.912359</td>\n",
       "    </tr>\n",
       "  </tbody>\n",
       "</table>\n",
       "</div>"
      ],
      "text/plain": [
       "                  Model Name          MAE      MAPE         RMSE\n",
       "0    Random Forest Regressor   678.390540  0.099811  1008.885714\n",
       "0              Average Model  1354.800353  0.455051  1835.135542\n",
       "0          Linear Regression  1867.089774  0.292694  2671.049215\n",
       "0  Linear Regression - Lasso  1891.704881  0.289106  2744.451737\n",
       "0          XGBoost Regressor  6683.556773  0.949455  7330.912359"
      ]
     },
     "execution_count": 72,
     "metadata": {},
     "output_type": "execute_result"
    }
   ],
   "source": [
    "modelling_result = pd.concat( [baseline_result, lr_result, lrr_result, rf_result, xgb_result] )\n",
    "modelling_result.sort_values( 'RMSE' )"
   ]
  },
  {
   "cell_type": "code",
   "execution_count": 73,
   "id": "a91796a2",
   "metadata": {
    "ExecuteTime": {
     "end_time": "2022-09-18T20:42:55.425990Z",
     "start_time": "2022-09-18T20:42:55.357109Z"
    }
   },
   "outputs": [],
   "source": [
    "x_training = X_train[ cols_selected_boruta_full ]"
   ]
  },
  {
   "cell_type": "code",
   "execution_count": 117,
   "id": "ef147c4a",
   "metadata": {
    "ExecuteTime": {
     "end_time": "2022-09-19T02:55:22.190023Z",
     "start_time": "2022-09-19T02:55:19.105166Z"
    }
   },
   "outputs": [],
   "source": [
    "model = Lasso( alpha=0.01 )\n",
    "a = cross_validation( x_training, 5, 'Lasso', model, verbose=False )"
   ]
  },
  {
   "cell_type": "code",
   "execution_count": 118,
   "id": "220b0262",
   "metadata": {
    "ExecuteTime": {
     "end_time": "2022-09-19T02:55:25.158744Z",
     "start_time": "2022-09-19T02:55:25.139795Z"
    }
   },
   "outputs": [
    {
     "data": {
      "text/html": [
       "<div>\n",
       "<style scoped>\n",
       "    .dataframe tbody tr th:only-of-type {\n",
       "        vertical-align: middle;\n",
       "    }\n",
       "\n",
       "    .dataframe tbody tr th {\n",
       "        vertical-align: top;\n",
       "    }\n",
       "\n",
       "    .dataframe thead th {\n",
       "        text-align: right;\n",
       "    }\n",
       "</style>\n",
       "<table border=\"1\" class=\"dataframe\">\n",
       "  <thead>\n",
       "    <tr style=\"text-align: right;\">\n",
       "      <th></th>\n",
       "      <th>Model Name</th>\n",
       "      <th>MAE CV</th>\n",
       "      <th>MAPE CV</th>\n",
       "      <th>RMSE CV</th>\n",
       "    </tr>\n",
       "  </thead>\n",
       "  <tbody>\n",
       "    <tr>\n",
       "      <th>0</th>\n",
       "      <td>Lasso</td>\n",
       "      <td>2116.38+/- 341.5</td>\n",
       "      <td>0.29+/- 0.01</td>\n",
       "      <td>3057.75+/- 504.26</td>\n",
       "    </tr>\n",
       "  </tbody>\n",
       "</table>\n",
       "</div>"
      ],
      "text/plain": [
       "  Model Name            MAE CV       MAPE CV            RMSE CV\n",
       "0      Lasso  2116.38+/- 341.5  0.29+/- 0.01  3057.75+/- 504.26"
      ]
     },
     "execution_count": 118,
     "metadata": {},
     "output_type": "execute_result"
    }
   ],
   "source": [
    "a"
   ]
  },
  {
   "cell_type": "code",
   "execution_count": null,
   "id": "eda32011",
   "metadata": {},
   "outputs": [],
   "source": []
  },
  {
   "cell_type": "code",
   "execution_count": null,
   "id": "5daa4c95",
   "metadata": {},
   "outputs": [],
   "source": []
  },
  {
   "cell_type": "code",
   "execution_count": null,
   "id": "4085845d",
   "metadata": {},
   "outputs": [],
   "source": []
  },
  {
   "cell_type": "code",
   "execution_count": null,
   "id": "42b56e9e",
   "metadata": {},
   "outputs": [],
   "source": []
  },
  {
   "cell_type": "code",
   "execution_count": null,
   "id": "47fc9845",
   "metadata": {},
   "outputs": [],
   "source": []
  },
  {
   "cell_type": "code",
   "execution_count": null,
   "id": "235b9f1b",
   "metadata": {},
   "outputs": [],
   "source": []
  },
  {
   "cell_type": "code",
   "execution_count": null,
   "id": "be9081f0",
   "metadata": {},
   "outputs": [],
   "source": []
  }
 ],
 "metadata": {
  "kernelspec": {
   "display_name": "Python 3 (ipykernel)",
   "language": "python",
   "name": "python3"
  },
  "language_info": {
   "codemirror_mode": {
    "name": "ipython",
    "version": 3
   },
   "file_extension": ".py",
   "mimetype": "text/x-python",
   "name": "python",
   "nbconvert_exporter": "python",
   "pygments_lexer": "ipython3",
   "version": "3.9.7"
  }
 },
 "nbformat": 4,
 "nbformat_minor": 5
}
